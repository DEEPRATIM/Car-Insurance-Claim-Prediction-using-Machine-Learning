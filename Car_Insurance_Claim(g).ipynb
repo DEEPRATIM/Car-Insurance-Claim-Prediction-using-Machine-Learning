{
 "cells": [
  {
   "cell_type": "code",
   "execution_count": 2,
   "id": "0b2348d0",
   "metadata": {},
   "outputs": [],
   "source": [
    "import numpy as np # linear algebra\n",
    "import pandas as pd # data processing, CSV file I/O (e.g. pd.read_csv)\n",
    "import matplotlib.pyplot as plt #to plot charts\n",
    "import seaborn as sns #used for data visualization\n",
    "import warnings #avoid warning flash\n",
    "warnings.filterwarnings('ignore')"
   ]
  },
  {
   "cell_type": "code",
   "execution_count": 3,
   "id": "9c644318",
   "metadata": {},
   "outputs": [],
   "source": [
    "df=pd.read_csv('Car_Insurance_Claim.csv')"
   ]
  },
  {
   "cell_type": "code",
   "execution_count": 4,
   "id": "21785d74",
   "metadata": {},
   "outputs": [
    {
     "data": {
      "text/html": [
       "<div>\n",
       "<style scoped>\n",
       "    .dataframe tbody tr th:only-of-type {\n",
       "        vertical-align: middle;\n",
       "    }\n",
       "\n",
       "    .dataframe tbody tr th {\n",
       "        vertical-align: top;\n",
       "    }\n",
       "\n",
       "    .dataframe thead th {\n",
       "        text-align: right;\n",
       "    }\n",
       "</style>\n",
       "<table border=\"1\" class=\"dataframe\">\n",
       "  <thead>\n",
       "    <tr style=\"text-align: right;\">\n",
       "      <th></th>\n",
       "      <th>ID</th>\n",
       "      <th>AGE</th>\n",
       "      <th>GENDER</th>\n",
       "      <th>RACE</th>\n",
       "      <th>DRIVING_EXPERIENCE</th>\n",
       "      <th>EDUCATION</th>\n",
       "      <th>INCOME</th>\n",
       "      <th>CREDIT_SCORE</th>\n",
       "      <th>VEHICLE_OWNERSHIP</th>\n",
       "      <th>VEHICLE_YEAR</th>\n",
       "      <th>MARRIED</th>\n",
       "      <th>CHILDREN</th>\n",
       "      <th>POSTAL_CODE</th>\n",
       "      <th>ANNUAL_MILEAGE</th>\n",
       "      <th>VEHICLE_TYPE</th>\n",
       "      <th>SPEEDING_VIOLATIONS</th>\n",
       "      <th>DUIS</th>\n",
       "      <th>PAST_ACCIDENTS</th>\n",
       "      <th>OUTCOME</th>\n",
       "    </tr>\n",
       "  </thead>\n",
       "  <tbody>\n",
       "    <tr>\n",
       "      <th>0</th>\n",
       "      <td>569520</td>\n",
       "      <td>65+</td>\n",
       "      <td>female</td>\n",
       "      <td>majority</td>\n",
       "      <td>0-9y</td>\n",
       "      <td>high school</td>\n",
       "      <td>upper class</td>\n",
       "      <td>0.629027</td>\n",
       "      <td>1.0</td>\n",
       "      <td>after 2015</td>\n",
       "      <td>0.0</td>\n",
       "      <td>1.0</td>\n",
       "      <td>10238</td>\n",
       "      <td>12000.0</td>\n",
       "      <td>sedan</td>\n",
       "      <td>0</td>\n",
       "      <td>0</td>\n",
       "      <td>0</td>\n",
       "      <td>0.0</td>\n",
       "    </tr>\n",
       "    <tr>\n",
       "      <th>1</th>\n",
       "      <td>750365</td>\n",
       "      <td>16-25</td>\n",
       "      <td>male</td>\n",
       "      <td>majority</td>\n",
       "      <td>0-9y</td>\n",
       "      <td>none</td>\n",
       "      <td>poverty</td>\n",
       "      <td>0.357757</td>\n",
       "      <td>0.0</td>\n",
       "      <td>before 2015</td>\n",
       "      <td>0.0</td>\n",
       "      <td>0.0</td>\n",
       "      <td>10238</td>\n",
       "      <td>16000.0</td>\n",
       "      <td>sedan</td>\n",
       "      <td>0</td>\n",
       "      <td>0</td>\n",
       "      <td>0</td>\n",
       "      <td>1.0</td>\n",
       "    </tr>\n",
       "    <tr>\n",
       "      <th>2</th>\n",
       "      <td>199901</td>\n",
       "      <td>16-25</td>\n",
       "      <td>female</td>\n",
       "      <td>majority</td>\n",
       "      <td>0-9y</td>\n",
       "      <td>high school</td>\n",
       "      <td>working class</td>\n",
       "      <td>0.493146</td>\n",
       "      <td>1.0</td>\n",
       "      <td>before 2015</td>\n",
       "      <td>0.0</td>\n",
       "      <td>0.0</td>\n",
       "      <td>10238</td>\n",
       "      <td>11000.0</td>\n",
       "      <td>sedan</td>\n",
       "      <td>0</td>\n",
       "      <td>0</td>\n",
       "      <td>0</td>\n",
       "      <td>0.0</td>\n",
       "    </tr>\n",
       "    <tr>\n",
       "      <th>3</th>\n",
       "      <td>478866</td>\n",
       "      <td>16-25</td>\n",
       "      <td>male</td>\n",
       "      <td>majority</td>\n",
       "      <td>0-9y</td>\n",
       "      <td>university</td>\n",
       "      <td>working class</td>\n",
       "      <td>0.206013</td>\n",
       "      <td>1.0</td>\n",
       "      <td>before 2015</td>\n",
       "      <td>0.0</td>\n",
       "      <td>1.0</td>\n",
       "      <td>32765</td>\n",
       "      <td>11000.0</td>\n",
       "      <td>sedan</td>\n",
       "      <td>0</td>\n",
       "      <td>0</td>\n",
       "      <td>0</td>\n",
       "      <td>0.0</td>\n",
       "    </tr>\n",
       "    <tr>\n",
       "      <th>4</th>\n",
       "      <td>731664</td>\n",
       "      <td>26-39</td>\n",
       "      <td>male</td>\n",
       "      <td>majority</td>\n",
       "      <td>10-19y</td>\n",
       "      <td>none</td>\n",
       "      <td>working class</td>\n",
       "      <td>0.388366</td>\n",
       "      <td>1.0</td>\n",
       "      <td>before 2015</td>\n",
       "      <td>0.0</td>\n",
       "      <td>0.0</td>\n",
       "      <td>32765</td>\n",
       "      <td>12000.0</td>\n",
       "      <td>sedan</td>\n",
       "      <td>2</td>\n",
       "      <td>0</td>\n",
       "      <td>1</td>\n",
       "      <td>1.0</td>\n",
       "    </tr>\n",
       "  </tbody>\n",
       "</table>\n",
       "</div>"
      ],
      "text/plain": [
       "       ID    AGE  GENDER      RACE DRIVING_EXPERIENCE    EDUCATION  \\\n",
       "0  569520    65+  female  majority               0-9y  high school   \n",
       "1  750365  16-25    male  majority               0-9y         none   \n",
       "2  199901  16-25  female  majority               0-9y  high school   \n",
       "3  478866  16-25    male  majority               0-9y   university   \n",
       "4  731664  26-39    male  majority             10-19y         none   \n",
       "\n",
       "          INCOME  CREDIT_SCORE  VEHICLE_OWNERSHIP VEHICLE_YEAR  MARRIED  \\\n",
       "0    upper class      0.629027                1.0   after 2015      0.0   \n",
       "1        poverty      0.357757                0.0  before 2015      0.0   \n",
       "2  working class      0.493146                1.0  before 2015      0.0   \n",
       "3  working class      0.206013                1.0  before 2015      0.0   \n",
       "4  working class      0.388366                1.0  before 2015      0.0   \n",
       "\n",
       "   CHILDREN  POSTAL_CODE  ANNUAL_MILEAGE VEHICLE_TYPE  SPEEDING_VIOLATIONS  \\\n",
       "0       1.0        10238         12000.0        sedan                    0   \n",
       "1       0.0        10238         16000.0        sedan                    0   \n",
       "2       0.0        10238         11000.0        sedan                    0   \n",
       "3       1.0        32765         11000.0        sedan                    0   \n",
       "4       0.0        32765         12000.0        sedan                    2   \n",
       "\n",
       "   DUIS  PAST_ACCIDENTS  OUTCOME  \n",
       "0     0               0      0.0  \n",
       "1     0               0      1.0  \n",
       "2     0               0      0.0  \n",
       "3     0               0      0.0  \n",
       "4     0               1      1.0  "
      ]
     },
     "execution_count": 4,
     "metadata": {},
     "output_type": "execute_result"
    }
   ],
   "source": [
    "df.head()"
   ]
  },
  {
   "cell_type": "code",
   "execution_count": 5,
   "id": "362c51f3",
   "metadata": {},
   "outputs": [
    {
     "data": {
      "text/html": [
       "<div>\n",
       "<style scoped>\n",
       "    .dataframe tbody tr th:only-of-type {\n",
       "        vertical-align: middle;\n",
       "    }\n",
       "\n",
       "    .dataframe tbody tr th {\n",
       "        vertical-align: top;\n",
       "    }\n",
       "\n",
       "    .dataframe thead th {\n",
       "        text-align: right;\n",
       "    }\n",
       "</style>\n",
       "<table border=\"1\" class=\"dataframe\">\n",
       "  <thead>\n",
       "    <tr style=\"text-align: right;\">\n",
       "      <th></th>\n",
       "      <th>ID</th>\n",
       "      <th>AGE</th>\n",
       "      <th>GENDER</th>\n",
       "      <th>RACE</th>\n",
       "      <th>DRIVING_EXPERIENCE</th>\n",
       "      <th>EDUCATION</th>\n",
       "      <th>INCOME</th>\n",
       "      <th>CREDIT_SCORE</th>\n",
       "      <th>VEHICLE_OWNERSHIP</th>\n",
       "      <th>VEHICLE_YEAR</th>\n",
       "      <th>MARRIED</th>\n",
       "      <th>CHILDREN</th>\n",
       "      <th>POSTAL_CODE</th>\n",
       "      <th>ANNUAL_MILEAGE</th>\n",
       "      <th>VEHICLE_TYPE</th>\n",
       "      <th>SPEEDING_VIOLATIONS</th>\n",
       "      <th>DUIS</th>\n",
       "      <th>PAST_ACCIDENTS</th>\n",
       "      <th>OUTCOME</th>\n",
       "    </tr>\n",
       "  </thead>\n",
       "  <tbody>\n",
       "    <tr>\n",
       "      <th>99</th>\n",
       "      <td>55670</td>\n",
       "      <td>26-39</td>\n",
       "      <td>male</td>\n",
       "      <td>majority</td>\n",
       "      <td>10-19y</td>\n",
       "      <td>university</td>\n",
       "      <td>upper class</td>\n",
       "      <td>NaN</td>\n",
       "      <td>1.0</td>\n",
       "      <td>after 2015</td>\n",
       "      <td>1.0</td>\n",
       "      <td>1.0</td>\n",
       "      <td>10238</td>\n",
       "      <td>11000.0</td>\n",
       "      <td>sedan</td>\n",
       "      <td>3</td>\n",
       "      <td>1</td>\n",
       "      <td>0</td>\n",
       "      <td>0.0</td>\n",
       "    </tr>\n",
       "    <tr>\n",
       "      <th>8993</th>\n",
       "      <td>913429</td>\n",
       "      <td>65+</td>\n",
       "      <td>female</td>\n",
       "      <td>majority</td>\n",
       "      <td>30y+</td>\n",
       "      <td>university</td>\n",
       "      <td>upper class</td>\n",
       "      <td>0.757362</td>\n",
       "      <td>1.0</td>\n",
       "      <td>before 2015</td>\n",
       "      <td>0.0</td>\n",
       "      <td>1.0</td>\n",
       "      <td>10238</td>\n",
       "      <td>11000.0</td>\n",
       "      <td>sedan</td>\n",
       "      <td>3</td>\n",
       "      <td>1</td>\n",
       "      <td>0</td>\n",
       "      <td>0.0</td>\n",
       "    </tr>\n",
       "    <tr>\n",
       "      <th>3899</th>\n",
       "      <td>453516</td>\n",
       "      <td>26-39</td>\n",
       "      <td>male</td>\n",
       "      <td>minority</td>\n",
       "      <td>0-9y</td>\n",
       "      <td>high school</td>\n",
       "      <td>poverty</td>\n",
       "      <td>0.286949</td>\n",
       "      <td>0.0</td>\n",
       "      <td>before 2015</td>\n",
       "      <td>0.0</td>\n",
       "      <td>0.0</td>\n",
       "      <td>32765</td>\n",
       "      <td>11000.0</td>\n",
       "      <td>sedan</td>\n",
       "      <td>0</td>\n",
       "      <td>0</td>\n",
       "      <td>0</td>\n",
       "      <td>1.0</td>\n",
       "    </tr>\n",
       "    <tr>\n",
       "      <th>6818</th>\n",
       "      <td>167956</td>\n",
       "      <td>40-64</td>\n",
       "      <td>female</td>\n",
       "      <td>majority</td>\n",
       "      <td>10-19y</td>\n",
       "      <td>high school</td>\n",
       "      <td>middle class</td>\n",
       "      <td>0.587925</td>\n",
       "      <td>1.0</td>\n",
       "      <td>after 2015</td>\n",
       "      <td>1.0</td>\n",
       "      <td>1.0</td>\n",
       "      <td>10238</td>\n",
       "      <td>12000.0</td>\n",
       "      <td>sedan</td>\n",
       "      <td>1</td>\n",
       "      <td>0</td>\n",
       "      <td>1</td>\n",
       "      <td>0.0</td>\n",
       "    </tr>\n",
       "    <tr>\n",
       "      <th>6831</th>\n",
       "      <td>277746</td>\n",
       "      <td>65+</td>\n",
       "      <td>female</td>\n",
       "      <td>minority</td>\n",
       "      <td>20-29y</td>\n",
       "      <td>high school</td>\n",
       "      <td>upper class</td>\n",
       "      <td>0.443599</td>\n",
       "      <td>1.0</td>\n",
       "      <td>after 2015</td>\n",
       "      <td>1.0</td>\n",
       "      <td>1.0</td>\n",
       "      <td>10238</td>\n",
       "      <td>11000.0</td>\n",
       "      <td>sedan</td>\n",
       "      <td>2</td>\n",
       "      <td>0</td>\n",
       "      <td>4</td>\n",
       "      <td>0.0</td>\n",
       "    </tr>\n",
       "    <tr>\n",
       "      <th>4100</th>\n",
       "      <td>260651</td>\n",
       "      <td>40-64</td>\n",
       "      <td>male</td>\n",
       "      <td>majority</td>\n",
       "      <td>20-29y</td>\n",
       "      <td>university</td>\n",
       "      <td>middle class</td>\n",
       "      <td>0.578992</td>\n",
       "      <td>1.0</td>\n",
       "      <td>before 2015</td>\n",
       "      <td>0.0</td>\n",
       "      <td>1.0</td>\n",
       "      <td>10238</td>\n",
       "      <td>10000.0</td>\n",
       "      <td>sedan</td>\n",
       "      <td>1</td>\n",
       "      <td>1</td>\n",
       "      <td>1</td>\n",
       "      <td>0.0</td>\n",
       "    </tr>\n",
       "    <tr>\n",
       "      <th>975</th>\n",
       "      <td>658061</td>\n",
       "      <td>40-64</td>\n",
       "      <td>male</td>\n",
       "      <td>majority</td>\n",
       "      <td>0-9y</td>\n",
       "      <td>university</td>\n",
       "      <td>upper class</td>\n",
       "      <td>0.464203</td>\n",
       "      <td>1.0</td>\n",
       "      <td>before 2015</td>\n",
       "      <td>1.0</td>\n",
       "      <td>1.0</td>\n",
       "      <td>32765</td>\n",
       "      <td>5000.0</td>\n",
       "      <td>sedan</td>\n",
       "      <td>0</td>\n",
       "      <td>0</td>\n",
       "      <td>0</td>\n",
       "      <td>1.0</td>\n",
       "    </tr>\n",
       "    <tr>\n",
       "      <th>9713</th>\n",
       "      <td>65109</td>\n",
       "      <td>16-25</td>\n",
       "      <td>female</td>\n",
       "      <td>majority</td>\n",
       "      <td>0-9y</td>\n",
       "      <td>university</td>\n",
       "      <td>upper class</td>\n",
       "      <td>NaN</td>\n",
       "      <td>1.0</td>\n",
       "      <td>after 2015</td>\n",
       "      <td>0.0</td>\n",
       "      <td>1.0</td>\n",
       "      <td>32765</td>\n",
       "      <td>10000.0</td>\n",
       "      <td>sedan</td>\n",
       "      <td>0</td>\n",
       "      <td>0</td>\n",
       "      <td>0</td>\n",
       "      <td>0.0</td>\n",
       "    </tr>\n",
       "    <tr>\n",
       "      <th>3524</th>\n",
       "      <td>440590</td>\n",
       "      <td>26-39</td>\n",
       "      <td>female</td>\n",
       "      <td>majority</td>\n",
       "      <td>10-19y</td>\n",
       "      <td>high school</td>\n",
       "      <td>poverty</td>\n",
       "      <td>0.367607</td>\n",
       "      <td>1.0</td>\n",
       "      <td>before 2015</td>\n",
       "      <td>0.0</td>\n",
       "      <td>0.0</td>\n",
       "      <td>10238</td>\n",
       "      <td>14000.0</td>\n",
       "      <td>sedan</td>\n",
       "      <td>0</td>\n",
       "      <td>0</td>\n",
       "      <td>0</td>\n",
       "      <td>0.0</td>\n",
       "    </tr>\n",
       "    <tr>\n",
       "      <th>3781</th>\n",
       "      <td>11666</td>\n",
       "      <td>26-39</td>\n",
       "      <td>female</td>\n",
       "      <td>majority</td>\n",
       "      <td>10-19y</td>\n",
       "      <td>high school</td>\n",
       "      <td>working class</td>\n",
       "      <td>0.388386</td>\n",
       "      <td>0.0</td>\n",
       "      <td>before 2015</td>\n",
       "      <td>0.0</td>\n",
       "      <td>0.0</td>\n",
       "      <td>32765</td>\n",
       "      <td>13000.0</td>\n",
       "      <td>sedan</td>\n",
       "      <td>1</td>\n",
       "      <td>0</td>\n",
       "      <td>0</td>\n",
       "      <td>1.0</td>\n",
       "    </tr>\n",
       "  </tbody>\n",
       "</table>\n",
       "</div>"
      ],
      "text/plain": [
       "          ID    AGE  GENDER      RACE DRIVING_EXPERIENCE    EDUCATION  \\\n",
       "99     55670  26-39    male  majority             10-19y   university   \n",
       "8993  913429    65+  female  majority               30y+   university   \n",
       "3899  453516  26-39    male  minority               0-9y  high school   \n",
       "6818  167956  40-64  female  majority             10-19y  high school   \n",
       "6831  277746    65+  female  minority             20-29y  high school   \n",
       "4100  260651  40-64    male  majority             20-29y   university   \n",
       "975   658061  40-64    male  majority               0-9y   university   \n",
       "9713   65109  16-25  female  majority               0-9y   university   \n",
       "3524  440590  26-39  female  majority             10-19y  high school   \n",
       "3781   11666  26-39  female  majority             10-19y  high school   \n",
       "\n",
       "             INCOME  CREDIT_SCORE  VEHICLE_OWNERSHIP VEHICLE_YEAR  MARRIED  \\\n",
       "99      upper class           NaN                1.0   after 2015      1.0   \n",
       "8993    upper class      0.757362                1.0  before 2015      0.0   \n",
       "3899        poverty      0.286949                0.0  before 2015      0.0   \n",
       "6818   middle class      0.587925                1.0   after 2015      1.0   \n",
       "6831    upper class      0.443599                1.0   after 2015      1.0   \n",
       "4100   middle class      0.578992                1.0  before 2015      0.0   \n",
       "975     upper class      0.464203                1.0  before 2015      1.0   \n",
       "9713    upper class           NaN                1.0   after 2015      0.0   \n",
       "3524        poverty      0.367607                1.0  before 2015      0.0   \n",
       "3781  working class      0.388386                0.0  before 2015      0.0   \n",
       "\n",
       "      CHILDREN  POSTAL_CODE  ANNUAL_MILEAGE VEHICLE_TYPE  SPEEDING_VIOLATIONS  \\\n",
       "99         1.0        10238         11000.0        sedan                    3   \n",
       "8993       1.0        10238         11000.0        sedan                    3   \n",
       "3899       0.0        32765         11000.0        sedan                    0   \n",
       "6818       1.0        10238         12000.0        sedan                    1   \n",
       "6831       1.0        10238         11000.0        sedan                    2   \n",
       "4100       1.0        10238         10000.0        sedan                    1   \n",
       "975        1.0        32765          5000.0        sedan                    0   \n",
       "9713       1.0        32765         10000.0        sedan                    0   \n",
       "3524       0.0        10238         14000.0        sedan                    0   \n",
       "3781       0.0        32765         13000.0        sedan                    1   \n",
       "\n",
       "      DUIS  PAST_ACCIDENTS  OUTCOME  \n",
       "99       1               0      0.0  \n",
       "8993     1               0      0.0  \n",
       "3899     0               0      1.0  \n",
       "6818     0               1      0.0  \n",
       "6831     0               4      0.0  \n",
       "4100     1               1      0.0  \n",
       "975      0               0      1.0  \n",
       "9713     0               0      0.0  \n",
       "3524     0               0      0.0  \n",
       "3781     0               0      1.0  "
      ]
     },
     "execution_count": 5,
     "metadata": {},
     "output_type": "execute_result"
    }
   ],
   "source": [
    "df.sample(10)"
   ]
  },
  {
   "cell_type": "code",
   "execution_count": 6,
   "id": "185ab524",
   "metadata": {},
   "outputs": [
    {
     "name": "stdout",
     "output_type": "stream",
     "text": [
      "<class 'pandas.core.frame.DataFrame'>\n",
      "RangeIndex: 10000 entries, 0 to 9999\n",
      "Data columns (total 19 columns):\n",
      " #   Column               Non-Null Count  Dtype  \n",
      "---  ------               --------------  -----  \n",
      " 0   ID                   10000 non-null  int64  \n",
      " 1   AGE                  10000 non-null  object \n",
      " 2   GENDER               10000 non-null  object \n",
      " 3   RACE                 10000 non-null  object \n",
      " 4   DRIVING_EXPERIENCE   10000 non-null  object \n",
      " 5   EDUCATION            10000 non-null  object \n",
      " 6   INCOME               10000 non-null  object \n",
      " 7   CREDIT_SCORE         9018 non-null   float64\n",
      " 8   VEHICLE_OWNERSHIP    10000 non-null  float64\n",
      " 9   VEHICLE_YEAR         10000 non-null  object \n",
      " 10  MARRIED              10000 non-null  float64\n",
      " 11  CHILDREN             10000 non-null  float64\n",
      " 12  POSTAL_CODE          10000 non-null  int64  \n",
      " 13  ANNUAL_MILEAGE       9043 non-null   float64\n",
      " 14  VEHICLE_TYPE         10000 non-null  object \n",
      " 15  SPEEDING_VIOLATIONS  10000 non-null  int64  \n",
      " 16  DUIS                 10000 non-null  int64  \n",
      " 17  PAST_ACCIDENTS       10000 non-null  int64  \n",
      " 18  OUTCOME              10000 non-null  float64\n",
      "dtypes: float64(6), int64(5), object(8)\n",
      "memory usage: 1.4+ MB\n"
     ]
    }
   ],
   "source": [
    "df.info()"
   ]
  },
  {
   "cell_type": "code",
   "execution_count": 7,
   "id": "c48db2c4",
   "metadata": {},
   "outputs": [
    {
     "data": {
      "text/plain": [
       "ID                       0\n",
       "AGE                      0\n",
       "GENDER                   0\n",
       "RACE                     0\n",
       "DRIVING_EXPERIENCE       0\n",
       "EDUCATION                0\n",
       "INCOME                   0\n",
       "CREDIT_SCORE           982\n",
       "VEHICLE_OWNERSHIP        0\n",
       "VEHICLE_YEAR             0\n",
       "MARRIED                  0\n",
       "CHILDREN                 0\n",
       "POSTAL_CODE              0\n",
       "ANNUAL_MILEAGE         957\n",
       "VEHICLE_TYPE             0\n",
       "SPEEDING_VIOLATIONS      0\n",
       "DUIS                     0\n",
       "PAST_ACCIDENTS           0\n",
       "OUTCOME                  0\n",
       "dtype: int64"
      ]
     },
     "execution_count": 7,
     "metadata": {},
     "output_type": "execute_result"
    }
   ],
   "source": [
    "df.isnull().sum()"
   ]
  },
  {
   "cell_type": "code",
   "execution_count": 8,
   "id": "bad8c1f4",
   "metadata": {},
   "outputs": [
    {
     "data": {
      "text/plain": [
       "(10000, 19)"
      ]
     },
     "execution_count": 8,
     "metadata": {},
     "output_type": "execute_result"
    }
   ],
   "source": [
    "df.shape"
   ]
  },
  {
   "cell_type": "code",
   "execution_count": 9,
   "id": "3c7f08ed",
   "metadata": {},
   "outputs": [
    {
     "data": {
      "text/plain": [
       "AGE    INCOME         EDUCATION  \n",
       "16-25  middle class   high school    0.514329\n",
       "                      none           0.545391\n",
       "                      university     0.520045\n",
       "       poverty        high school    0.341497\n",
       "                      none           0.352442\n",
       "                      university     0.350841\n",
       "       upper class    high school    0.579973\n",
       "                      none           0.533414\n",
       "                      university     0.616526\n",
       "       working class  high school    0.434221\n",
       "                      none           0.418055\n",
       "                      university     0.425097\n",
       "26-39  middle class   high school    0.526995\n",
       "                      none           0.511972\n",
       "                      university     0.520071\n",
       "       poverty        high school    0.356702\n",
       "                      none           0.347802\n",
       "                      university     0.340098\n",
       "       upper class    high school    0.623426\n",
       "                      none           0.624397\n",
       "                      university     0.605435\n",
       "       working class  high school    0.437329\n",
       "                      none           0.435985\n",
       "                      university     0.429568\n",
       "40-64  middle class   high school    0.540640\n",
       "                      none           0.512561\n",
       "                      university     0.525332\n",
       "       poverty        high school    0.321370\n",
       "                      none           0.348683\n",
       "                      university     0.360864\n",
       "       upper class    high school    0.615133\n",
       "                      none           0.620697\n",
       "                      university     0.610918\n",
       "       working class  high school    0.431227\n",
       "                      none           0.423587\n",
       "                      university     0.448956\n",
       "65+    middle class   high school    0.510260\n",
       "                      none           0.498616\n",
       "                      university     0.515381\n",
       "       poverty        high school    0.443157\n",
       "                      none           0.388536\n",
       "       upper class    high school    0.616227\n",
       "                      none           0.615110\n",
       "                      university     0.616938\n",
       "       working class  high school    0.425559\n",
       "                      none           0.435589\n",
       "                      university     0.257134\n",
       "Name: CREDIT_SCORE, dtype: float64"
      ]
     },
     "execution_count": 9,
     "metadata": {},
     "output_type": "execute_result"
    }
   ],
   "source": [
    "df.groupby(['AGE','INCOME','EDUCATION']).CREDIT_SCORE.mean()"
   ]
  },
  {
   "cell_type": "code",
   "execution_count": 10,
   "id": "a055ed08",
   "metadata": {},
   "outputs": [
    {
     "data": {
      "text/plain": [
       "0"
      ]
     },
     "execution_count": 10,
     "metadata": {},
     "output_type": "execute_result"
    }
   ],
   "source": [
    "df.CREDIT_SCORE = df.groupby(['AGE','INCOME','EDUCATION']).CREDIT_SCORE.fillna(df.CREDIT_SCORE.mean())\n",
    "df.CREDIT_SCORE.isnull().sum()"
   ]
  },
  {
   "cell_type": "code",
   "execution_count": 11,
   "id": "a55a8a10",
   "metadata": {},
   "outputs": [
    {
     "data": {
      "text/plain": [
       "VEHICLE_TYPE  VEHICLE_YEAR\n",
       "sedan         after 2015      11392.223481\n",
       "              before 2015     11842.087599\n",
       "sports car    after 2015      10805.309735\n",
       "              before 2015     11832.298137\n",
       "Name: ANNUAL_MILEAGE, dtype: float64"
      ]
     },
     "execution_count": 11,
     "metadata": {},
     "output_type": "execute_result"
    }
   ],
   "source": [
    "df.groupby(['VEHICLE_TYPE','VEHICLE_YEAR']).ANNUAL_MILEAGE.mean()"
   ]
  },
  {
   "cell_type": "code",
   "execution_count": 12,
   "id": "88ef9ded",
   "metadata": {},
   "outputs": [
    {
     "data": {
      "text/plain": [
       "0"
      ]
     },
     "execution_count": 12,
     "metadata": {},
     "output_type": "execute_result"
    }
   ],
   "source": [
    "df.ANNUAL_MILEAGE = df.groupby(['VEHICLE_YEAR','VEHICLE_TYPE']).ANNUAL_MILEAGE.fillna(df.ANNUAL_MILEAGE.mean())\n",
    "df.ANNUAL_MILEAGE.isnull().sum()"
   ]
  },
  {
   "cell_type": "code",
   "execution_count": 13,
   "id": "9dcc1d68",
   "metadata": {},
   "outputs": [
    {
     "name": "stdout",
     "output_type": "stream",
     "text": [
      "<class 'pandas.core.frame.DataFrame'>\n",
      "RangeIndex: 10000 entries, 0 to 9999\n",
      "Data columns (total 19 columns):\n",
      " #   Column               Non-Null Count  Dtype  \n",
      "---  ------               --------------  -----  \n",
      " 0   ID                   10000 non-null  int64  \n",
      " 1   AGE                  10000 non-null  object \n",
      " 2   GENDER               10000 non-null  object \n",
      " 3   RACE                 10000 non-null  object \n",
      " 4   DRIVING_EXPERIENCE   10000 non-null  object \n",
      " 5   EDUCATION            10000 non-null  object \n",
      " 6   INCOME               10000 non-null  object \n",
      " 7   CREDIT_SCORE         10000 non-null  float64\n",
      " 8   VEHICLE_OWNERSHIP    10000 non-null  float64\n",
      " 9   VEHICLE_YEAR         10000 non-null  object \n",
      " 10  MARRIED              10000 non-null  float64\n",
      " 11  CHILDREN             10000 non-null  float64\n",
      " 12  POSTAL_CODE          10000 non-null  int64  \n",
      " 13  ANNUAL_MILEAGE       10000 non-null  float64\n",
      " 14  VEHICLE_TYPE         10000 non-null  object \n",
      " 15  SPEEDING_VIOLATIONS  10000 non-null  int64  \n",
      " 16  DUIS                 10000 non-null  int64  \n",
      " 17  PAST_ACCIDENTS       10000 non-null  int64  \n",
      " 18  OUTCOME              10000 non-null  float64\n",
      "dtypes: float64(6), int64(5), object(8)\n",
      "memory usage: 1.4+ MB\n"
     ]
    }
   ],
   "source": [
    "df.info()"
   ]
  },
  {
   "cell_type": "code",
   "execution_count": 14,
   "id": "150e5fbb",
   "metadata": {},
   "outputs": [
    {
     "data": {
      "text/plain": [
       "(10000, 19)"
      ]
     },
     "execution_count": 14,
     "metadata": {},
     "output_type": "execute_result"
    }
   ],
   "source": [
    "df.shape"
   ]
  },
  {
   "cell_type": "markdown",
   "id": "66ca37db",
   "metadata": {},
   "source": [
    "# Converting object value to numerical value"
   ]
  },
  {
   "cell_type": "code",
   "execution_count": 15,
   "id": "872ded01",
   "metadata": {},
   "outputs": [],
   "source": [
    "from sklearn.preprocessing import LabelEncoder\n",
    "\n",
    "LE_AGE=LabelEncoder()\n",
    "LE_GENDER=LabelEncoder()\n",
    "LE_RACE=LabelEncoder()\n",
    "LE_DRIVING_EXPERIENCE=LabelEncoder()\n",
    "LE_EDUCATION=LabelEncoder()\n",
    "LE_INCOME=LabelEncoder()\n",
    "LE_VEHICLE_YEAR=LabelEncoder()\n",
    "LE_VEHICLE_TYPE=LabelEncoder()\n",
    "df_int=df.copy()\n",
    "df_int['AGE_Num']=LE_AGE.fit_transform(df_int['AGE'])\n",
    "df_int['GENDER_Num']=LE_AGE.fit_transform(df_int['GENDER'])\n",
    "df_int['RACE_Num']=LE_AGE.fit_transform(df_int['RACE'])\n",
    "df_int['DRIVING_EXPERIENCE_Num']=LE_AGE.fit_transform(df_int['DRIVING_EXPERIENCE'])\n",
    "df_int['EDUCATION_Num']=LE_AGE.fit_transform(df_int['EDUCATION'])\n",
    "df_int['INCOME_Num']=LE_AGE.fit_transform(df_int['INCOME'])\n",
    "df_int['VEHICLE_YEAR_Num']=LE_AGE.fit_transform(df_int['VEHICLE_YEAR'])\n",
    "df_int['VEHICLE_TYPE_Num']=LE_AGE.fit_transform(df_int['VEHICLE_TYPE'])"
   ]
  },
  {
   "cell_type": "code",
   "execution_count": 16,
   "id": "a4b7bef0",
   "metadata": {},
   "outputs": [
    {
     "name": "stdout",
     "output_type": "stream",
     "text": [
      "<class 'pandas.core.frame.DataFrame'>\n",
      "RangeIndex: 10000 entries, 0 to 9999\n",
      "Data columns (total 27 columns):\n",
      " #   Column                  Non-Null Count  Dtype  \n",
      "---  ------                  --------------  -----  \n",
      " 0   ID                      10000 non-null  int64  \n",
      " 1   AGE                     10000 non-null  object \n",
      " 2   GENDER                  10000 non-null  object \n",
      " 3   RACE                    10000 non-null  object \n",
      " 4   DRIVING_EXPERIENCE      10000 non-null  object \n",
      " 5   EDUCATION               10000 non-null  object \n",
      " 6   INCOME                  10000 non-null  object \n",
      " 7   CREDIT_SCORE            10000 non-null  float64\n",
      " 8   VEHICLE_OWNERSHIP       10000 non-null  float64\n",
      " 9   VEHICLE_YEAR            10000 non-null  object \n",
      " 10  MARRIED                 10000 non-null  float64\n",
      " 11  CHILDREN                10000 non-null  float64\n",
      " 12  POSTAL_CODE             10000 non-null  int64  \n",
      " 13  ANNUAL_MILEAGE          10000 non-null  float64\n",
      " 14  VEHICLE_TYPE            10000 non-null  object \n",
      " 15  SPEEDING_VIOLATIONS     10000 non-null  int64  \n",
      " 16  DUIS                    10000 non-null  int64  \n",
      " 17  PAST_ACCIDENTS          10000 non-null  int64  \n",
      " 18  OUTCOME                 10000 non-null  float64\n",
      " 19  AGE_Num                 10000 non-null  int32  \n",
      " 20  GENDER_Num              10000 non-null  int32  \n",
      " 21  RACE_Num                10000 non-null  int32  \n",
      " 22  DRIVING_EXPERIENCE_Num  10000 non-null  int32  \n",
      " 23  EDUCATION_Num           10000 non-null  int32  \n",
      " 24  INCOME_Num              10000 non-null  int32  \n",
      " 25  VEHICLE_YEAR_Num        10000 non-null  int32  \n",
      " 26  VEHICLE_TYPE_Num        10000 non-null  int32  \n",
      "dtypes: float64(6), int32(8), int64(5), object(8)\n",
      "memory usage: 1.8+ MB\n"
     ]
    }
   ],
   "source": [
    "df_int.info()"
   ]
  },
  {
   "cell_type": "code",
   "execution_count": 17,
   "id": "bb1ba348",
   "metadata": {},
   "outputs": [],
   "source": [
    "df_int=df_int.drop(['AGE','GENDER','RACE','DRIVING_EXPERIENCE','EDUCATION','INCOME','VEHICLE_YEAR','VEHICLE_TYPE'],axis='columns')"
   ]
  },
  {
   "cell_type": "code",
   "execution_count": 18,
   "id": "0f32d0b5",
   "metadata": {},
   "outputs": [
    {
     "name": "stdout",
     "output_type": "stream",
     "text": [
      "<class 'pandas.core.frame.DataFrame'>\n",
      "RangeIndex: 10000 entries, 0 to 9999\n",
      "Data columns (total 19 columns):\n",
      " #   Column                  Non-Null Count  Dtype  \n",
      "---  ------                  --------------  -----  \n",
      " 0   ID                      10000 non-null  int64  \n",
      " 1   CREDIT_SCORE            10000 non-null  float64\n",
      " 2   VEHICLE_OWNERSHIP       10000 non-null  float64\n",
      " 3   MARRIED                 10000 non-null  float64\n",
      " 4   CHILDREN                10000 non-null  float64\n",
      " 5   POSTAL_CODE             10000 non-null  int64  \n",
      " 6   ANNUAL_MILEAGE          10000 non-null  float64\n",
      " 7   SPEEDING_VIOLATIONS     10000 non-null  int64  \n",
      " 8   DUIS                    10000 non-null  int64  \n",
      " 9   PAST_ACCIDENTS          10000 non-null  int64  \n",
      " 10  OUTCOME                 10000 non-null  float64\n",
      " 11  AGE_Num                 10000 non-null  int32  \n",
      " 12  GENDER_Num              10000 non-null  int32  \n",
      " 13  RACE_Num                10000 non-null  int32  \n",
      " 14  DRIVING_EXPERIENCE_Num  10000 non-null  int32  \n",
      " 15  EDUCATION_Num           10000 non-null  int32  \n",
      " 16  INCOME_Num              10000 non-null  int32  \n",
      " 17  VEHICLE_YEAR_Num        10000 non-null  int32  \n",
      " 18  VEHICLE_TYPE_Num        10000 non-null  int32  \n",
      "dtypes: float64(6), int32(8), int64(5)\n",
      "memory usage: 1.1 MB\n"
     ]
    }
   ],
   "source": [
    "df_int.info()"
   ]
  },
  {
   "cell_type": "code",
   "execution_count": 19,
   "id": "35b52721",
   "metadata": {},
   "outputs": [
    {
     "data": {
      "text/html": [
       "<div>\n",
       "<style scoped>\n",
       "    .dataframe tbody tr th:only-of-type {\n",
       "        vertical-align: middle;\n",
       "    }\n",
       "\n",
       "    .dataframe tbody tr th {\n",
       "        vertical-align: top;\n",
       "    }\n",
       "\n",
       "    .dataframe thead th {\n",
       "        text-align: right;\n",
       "    }\n",
       "</style>\n",
       "<table border=\"1\" class=\"dataframe\">\n",
       "  <thead>\n",
       "    <tr style=\"text-align: right;\">\n",
       "      <th></th>\n",
       "      <th>ID</th>\n",
       "      <th>CREDIT_SCORE</th>\n",
       "      <th>VEHICLE_OWNERSHIP</th>\n",
       "      <th>MARRIED</th>\n",
       "      <th>CHILDREN</th>\n",
       "      <th>POSTAL_CODE</th>\n",
       "      <th>ANNUAL_MILEAGE</th>\n",
       "      <th>SPEEDING_VIOLATIONS</th>\n",
       "      <th>DUIS</th>\n",
       "      <th>PAST_ACCIDENTS</th>\n",
       "      <th>OUTCOME</th>\n",
       "      <th>AGE_Num</th>\n",
       "      <th>GENDER_Num</th>\n",
       "      <th>RACE_Num</th>\n",
       "      <th>DRIVING_EXPERIENCE_Num</th>\n",
       "      <th>EDUCATION_Num</th>\n",
       "      <th>INCOME_Num</th>\n",
       "      <th>VEHICLE_YEAR_Num</th>\n",
       "      <th>VEHICLE_TYPE_Num</th>\n",
       "    </tr>\n",
       "  </thead>\n",
       "  <tbody>\n",
       "    <tr>\n",
       "      <th>5141</th>\n",
       "      <td>810417</td>\n",
       "      <td>0.413118</td>\n",
       "      <td>1.0</td>\n",
       "      <td>0.0</td>\n",
       "      <td>1.0</td>\n",
       "      <td>21217</td>\n",
       "      <td>15000.000000</td>\n",
       "      <td>0</td>\n",
       "      <td>0</td>\n",
       "      <td>1</td>\n",
       "      <td>1.0</td>\n",
       "      <td>1</td>\n",
       "      <td>1</td>\n",
       "      <td>0</td>\n",
       "      <td>1</td>\n",
       "      <td>1</td>\n",
       "      <td>3</td>\n",
       "      <td>1</td>\n",
       "      <td>0</td>\n",
       "    </tr>\n",
       "    <tr>\n",
       "      <th>3556</th>\n",
       "      <td>897733</td>\n",
       "      <td>0.580114</td>\n",
       "      <td>1.0</td>\n",
       "      <td>0.0</td>\n",
       "      <td>1.0</td>\n",
       "      <td>10238</td>\n",
       "      <td>14000.000000</td>\n",
       "      <td>0</td>\n",
       "      <td>1</td>\n",
       "      <td>1</td>\n",
       "      <td>0.0</td>\n",
       "      <td>2</td>\n",
       "      <td>0</td>\n",
       "      <td>0</td>\n",
       "      <td>2</td>\n",
       "      <td>2</td>\n",
       "      <td>2</td>\n",
       "      <td>0</td>\n",
       "      <td>0</td>\n",
       "    </tr>\n",
       "    <tr>\n",
       "      <th>6330</th>\n",
       "      <td>440763</td>\n",
       "      <td>0.499361</td>\n",
       "      <td>1.0</td>\n",
       "      <td>1.0</td>\n",
       "      <td>1.0</td>\n",
       "      <td>10238</td>\n",
       "      <td>7000.000000</td>\n",
       "      <td>2</td>\n",
       "      <td>0</td>\n",
       "      <td>1</td>\n",
       "      <td>0.0</td>\n",
       "      <td>3</td>\n",
       "      <td>0</td>\n",
       "      <td>0</td>\n",
       "      <td>2</td>\n",
       "      <td>2</td>\n",
       "      <td>2</td>\n",
       "      <td>1</td>\n",
       "      <td>0</td>\n",
       "    </tr>\n",
       "    <tr>\n",
       "      <th>4472</th>\n",
       "      <td>496641</td>\n",
       "      <td>0.515813</td>\n",
       "      <td>1.0</td>\n",
       "      <td>1.0</td>\n",
       "      <td>0.0</td>\n",
       "      <td>32765</td>\n",
       "      <td>14000.000000</td>\n",
       "      <td>2</td>\n",
       "      <td>1</td>\n",
       "      <td>0</td>\n",
       "      <td>0.0</td>\n",
       "      <td>3</td>\n",
       "      <td>0</td>\n",
       "      <td>0</td>\n",
       "      <td>3</td>\n",
       "      <td>1</td>\n",
       "      <td>2</td>\n",
       "      <td>1</td>\n",
       "      <td>0</td>\n",
       "    </tr>\n",
       "    <tr>\n",
       "      <th>9444</th>\n",
       "      <td>112877</td>\n",
       "      <td>0.357477</td>\n",
       "      <td>0.0</td>\n",
       "      <td>0.0</td>\n",
       "      <td>0.0</td>\n",
       "      <td>92101</td>\n",
       "      <td>13000.000000</td>\n",
       "      <td>0</td>\n",
       "      <td>0</td>\n",
       "      <td>0</td>\n",
       "      <td>1.0</td>\n",
       "      <td>0</td>\n",
       "      <td>0</td>\n",
       "      <td>0</td>\n",
       "      <td>0</td>\n",
       "      <td>1</td>\n",
       "      <td>1</td>\n",
       "      <td>1</td>\n",
       "      <td>0</td>\n",
       "    </tr>\n",
       "    <tr>\n",
       "      <th>2718</th>\n",
       "      <td>57811</td>\n",
       "      <td>0.260393</td>\n",
       "      <td>0.0</td>\n",
       "      <td>1.0</td>\n",
       "      <td>1.0</td>\n",
       "      <td>10238</td>\n",
       "      <td>12000.000000</td>\n",
       "      <td>0</td>\n",
       "      <td>3</td>\n",
       "      <td>1</td>\n",
       "      <td>0.0</td>\n",
       "      <td>3</td>\n",
       "      <td>0</td>\n",
       "      <td>0</td>\n",
       "      <td>3</td>\n",
       "      <td>1</td>\n",
       "      <td>3</td>\n",
       "      <td>0</td>\n",
       "      <td>0</td>\n",
       "    </tr>\n",
       "    <tr>\n",
       "      <th>3568</th>\n",
       "      <td>441427</td>\n",
       "      <td>0.229016</td>\n",
       "      <td>0.0</td>\n",
       "      <td>1.0</td>\n",
       "      <td>0.0</td>\n",
       "      <td>32765</td>\n",
       "      <td>13000.000000</td>\n",
       "      <td>0</td>\n",
       "      <td>0</td>\n",
       "      <td>0</td>\n",
       "      <td>1.0</td>\n",
       "      <td>0</td>\n",
       "      <td>1</td>\n",
       "      <td>0</td>\n",
       "      <td>0</td>\n",
       "      <td>0</td>\n",
       "      <td>1</td>\n",
       "      <td>1</td>\n",
       "      <td>0</td>\n",
       "    </tr>\n",
       "    <tr>\n",
       "      <th>1401</th>\n",
       "      <td>427399</td>\n",
       "      <td>0.565374</td>\n",
       "      <td>1.0</td>\n",
       "      <td>1.0</td>\n",
       "      <td>1.0</td>\n",
       "      <td>32765</td>\n",
       "      <td>8000.000000</td>\n",
       "      <td>11</td>\n",
       "      <td>1</td>\n",
       "      <td>0</td>\n",
       "      <td>0.0</td>\n",
       "      <td>3</td>\n",
       "      <td>0</td>\n",
       "      <td>0</td>\n",
       "      <td>3</td>\n",
       "      <td>0</td>\n",
       "      <td>2</td>\n",
       "      <td>1</td>\n",
       "      <td>1</td>\n",
       "    </tr>\n",
       "    <tr>\n",
       "      <th>951</th>\n",
       "      <td>621406</td>\n",
       "      <td>0.480223</td>\n",
       "      <td>1.0</td>\n",
       "      <td>1.0</td>\n",
       "      <td>1.0</td>\n",
       "      <td>32765</td>\n",
       "      <td>11000.000000</td>\n",
       "      <td>5</td>\n",
       "      <td>0</td>\n",
       "      <td>0</td>\n",
       "      <td>0.0</td>\n",
       "      <td>2</td>\n",
       "      <td>1</td>\n",
       "      <td>0</td>\n",
       "      <td>1</td>\n",
       "      <td>2</td>\n",
       "      <td>2</td>\n",
       "      <td>1</td>\n",
       "      <td>0</td>\n",
       "    </tr>\n",
       "    <tr>\n",
       "      <th>8249</th>\n",
       "      <td>965846</td>\n",
       "      <td>0.523779</td>\n",
       "      <td>1.0</td>\n",
       "      <td>1.0</td>\n",
       "      <td>1.0</td>\n",
       "      <td>10238</td>\n",
       "      <td>8000.000000</td>\n",
       "      <td>2</td>\n",
       "      <td>0</td>\n",
       "      <td>1</td>\n",
       "      <td>0.0</td>\n",
       "      <td>1</td>\n",
       "      <td>1</td>\n",
       "      <td>0</td>\n",
       "      <td>1</td>\n",
       "      <td>2</td>\n",
       "      <td>2</td>\n",
       "      <td>1</td>\n",
       "      <td>0</td>\n",
       "    </tr>\n",
       "    <tr>\n",
       "      <th>6359</th>\n",
       "      <td>224969</td>\n",
       "      <td>0.614238</td>\n",
       "      <td>1.0</td>\n",
       "      <td>1.0</td>\n",
       "      <td>1.0</td>\n",
       "      <td>10238</td>\n",
       "      <td>14000.000000</td>\n",
       "      <td>0</td>\n",
       "      <td>0</td>\n",
       "      <td>0</td>\n",
       "      <td>0.0</td>\n",
       "      <td>2</td>\n",
       "      <td>0</td>\n",
       "      <td>0</td>\n",
       "      <td>2</td>\n",
       "      <td>0</td>\n",
       "      <td>2</td>\n",
       "      <td>1</td>\n",
       "      <td>0</td>\n",
       "    </tr>\n",
       "    <tr>\n",
       "      <th>1484</th>\n",
       "      <td>930070</td>\n",
       "      <td>0.515813</td>\n",
       "      <td>0.0</td>\n",
       "      <td>1.0</td>\n",
       "      <td>1.0</td>\n",
       "      <td>10238</td>\n",
       "      <td>11697.003207</td>\n",
       "      <td>1</td>\n",
       "      <td>0</td>\n",
       "      <td>2</td>\n",
       "      <td>0.0</td>\n",
       "      <td>2</td>\n",
       "      <td>0</td>\n",
       "      <td>0</td>\n",
       "      <td>2</td>\n",
       "      <td>2</td>\n",
       "      <td>2</td>\n",
       "      <td>1</td>\n",
       "      <td>0</td>\n",
       "    </tr>\n",
       "    <tr>\n",
       "      <th>2532</th>\n",
       "      <td>831517</td>\n",
       "      <td>0.449628</td>\n",
       "      <td>0.0</td>\n",
       "      <td>1.0</td>\n",
       "      <td>0.0</td>\n",
       "      <td>10238</td>\n",
       "      <td>12000.000000</td>\n",
       "      <td>0</td>\n",
       "      <td>0</td>\n",
       "      <td>0</td>\n",
       "      <td>1.0</td>\n",
       "      <td>2</td>\n",
       "      <td>1</td>\n",
       "      <td>1</td>\n",
       "      <td>0</td>\n",
       "      <td>0</td>\n",
       "      <td>0</td>\n",
       "      <td>1</td>\n",
       "      <td>0</td>\n",
       "    </tr>\n",
       "    <tr>\n",
       "      <th>5204</th>\n",
       "      <td>105009</td>\n",
       "      <td>0.229903</td>\n",
       "      <td>0.0</td>\n",
       "      <td>1.0</td>\n",
       "      <td>0.0</td>\n",
       "      <td>10238</td>\n",
       "      <td>10000.000000</td>\n",
       "      <td>0</td>\n",
       "      <td>0</td>\n",
       "      <td>0</td>\n",
       "      <td>1.0</td>\n",
       "      <td>0</td>\n",
       "      <td>0</td>\n",
       "      <td>0</td>\n",
       "      <td>0</td>\n",
       "      <td>0</td>\n",
       "      <td>1</td>\n",
       "      <td>1</td>\n",
       "      <td>0</td>\n",
       "    </tr>\n",
       "    <tr>\n",
       "      <th>4819</th>\n",
       "      <td>564461</td>\n",
       "      <td>0.545474</td>\n",
       "      <td>1.0</td>\n",
       "      <td>0.0</td>\n",
       "      <td>1.0</td>\n",
       "      <td>10238</td>\n",
       "      <td>15000.000000</td>\n",
       "      <td>3</td>\n",
       "      <td>0</td>\n",
       "      <td>2</td>\n",
       "      <td>0.0</td>\n",
       "      <td>3</td>\n",
       "      <td>0</td>\n",
       "      <td>0</td>\n",
       "      <td>3</td>\n",
       "      <td>0</td>\n",
       "      <td>0</td>\n",
       "      <td>1</td>\n",
       "      <td>0</td>\n",
       "    </tr>\n",
       "    <tr>\n",
       "      <th>7325</th>\n",
       "      <td>163282</td>\n",
       "      <td>0.276345</td>\n",
       "      <td>0.0</td>\n",
       "      <td>0.0</td>\n",
       "      <td>1.0</td>\n",
       "      <td>10238</td>\n",
       "      <td>15000.000000</td>\n",
       "      <td>0</td>\n",
       "      <td>0</td>\n",
       "      <td>0</td>\n",
       "      <td>1.0</td>\n",
       "      <td>0</td>\n",
       "      <td>0</td>\n",
       "      <td>0</td>\n",
       "      <td>0</td>\n",
       "      <td>0</td>\n",
       "      <td>3</td>\n",
       "      <td>1</td>\n",
       "      <td>1</td>\n",
       "    </tr>\n",
       "    <tr>\n",
       "      <th>4004</th>\n",
       "      <td>259022</td>\n",
       "      <td>0.433948</td>\n",
       "      <td>0.0</td>\n",
       "      <td>1.0</td>\n",
       "      <td>1.0</td>\n",
       "      <td>10238</td>\n",
       "      <td>12000.000000</td>\n",
       "      <td>0</td>\n",
       "      <td>0</td>\n",
       "      <td>0</td>\n",
       "      <td>1.0</td>\n",
       "      <td>0</td>\n",
       "      <td>0</td>\n",
       "      <td>0</td>\n",
       "      <td>0</td>\n",
       "      <td>0</td>\n",
       "      <td>1</td>\n",
       "      <td>1</td>\n",
       "      <td>0</td>\n",
       "    </tr>\n",
       "    <tr>\n",
       "      <th>1025</th>\n",
       "      <td>787446</td>\n",
       "      <td>0.386102</td>\n",
       "      <td>1.0</td>\n",
       "      <td>0.0</td>\n",
       "      <td>1.0</td>\n",
       "      <td>10238</td>\n",
       "      <td>12000.000000</td>\n",
       "      <td>0</td>\n",
       "      <td>0</td>\n",
       "      <td>1</td>\n",
       "      <td>0.0</td>\n",
       "      <td>1</td>\n",
       "      <td>0</td>\n",
       "      <td>0</td>\n",
       "      <td>1</td>\n",
       "      <td>0</td>\n",
       "      <td>3</td>\n",
       "      <td>1</td>\n",
       "      <td>0</td>\n",
       "    </tr>\n",
       "    <tr>\n",
       "      <th>8955</th>\n",
       "      <td>120400</td>\n",
       "      <td>0.469813</td>\n",
       "      <td>1.0</td>\n",
       "      <td>1.0</td>\n",
       "      <td>1.0</td>\n",
       "      <td>32765</td>\n",
       "      <td>6000.000000</td>\n",
       "      <td>9</td>\n",
       "      <td>1</td>\n",
       "      <td>2</td>\n",
       "      <td>0.0</td>\n",
       "      <td>3</td>\n",
       "      <td>0</td>\n",
       "      <td>0</td>\n",
       "      <td>3</td>\n",
       "      <td>0</td>\n",
       "      <td>2</td>\n",
       "      <td>0</td>\n",
       "      <td>0</td>\n",
       "    </tr>\n",
       "    <tr>\n",
       "      <th>6098</th>\n",
       "      <td>352297</td>\n",
       "      <td>0.515813</td>\n",
       "      <td>1.0</td>\n",
       "      <td>0.0</td>\n",
       "      <td>1.0</td>\n",
       "      <td>32765</td>\n",
       "      <td>11000.000000</td>\n",
       "      <td>6</td>\n",
       "      <td>0</td>\n",
       "      <td>2</td>\n",
       "      <td>0.0</td>\n",
       "      <td>2</td>\n",
       "      <td>0</td>\n",
       "      <td>0</td>\n",
       "      <td>2</td>\n",
       "      <td>0</td>\n",
       "      <td>0</td>\n",
       "      <td>1</td>\n",
       "      <td>0</td>\n",
       "    </tr>\n",
       "  </tbody>\n",
       "</table>\n",
       "</div>"
      ],
      "text/plain": [
       "          ID  CREDIT_SCORE  VEHICLE_OWNERSHIP  MARRIED  CHILDREN  POSTAL_CODE  \\\n",
       "5141  810417      0.413118                1.0      0.0       1.0        21217   \n",
       "3556  897733      0.580114                1.0      0.0       1.0        10238   \n",
       "6330  440763      0.499361                1.0      1.0       1.0        10238   \n",
       "4472  496641      0.515813                1.0      1.0       0.0        32765   \n",
       "9444  112877      0.357477                0.0      0.0       0.0        92101   \n",
       "2718   57811      0.260393                0.0      1.0       1.0        10238   \n",
       "3568  441427      0.229016                0.0      1.0       0.0        32765   \n",
       "1401  427399      0.565374                1.0      1.0       1.0        32765   \n",
       "951   621406      0.480223                1.0      1.0       1.0        32765   \n",
       "8249  965846      0.523779                1.0      1.0       1.0        10238   \n",
       "6359  224969      0.614238                1.0      1.0       1.0        10238   \n",
       "1484  930070      0.515813                0.0      1.0       1.0        10238   \n",
       "2532  831517      0.449628                0.0      1.0       0.0        10238   \n",
       "5204  105009      0.229903                0.0      1.0       0.0        10238   \n",
       "4819  564461      0.545474                1.0      0.0       1.0        10238   \n",
       "7325  163282      0.276345                0.0      0.0       1.0        10238   \n",
       "4004  259022      0.433948                0.0      1.0       1.0        10238   \n",
       "1025  787446      0.386102                1.0      0.0       1.0        10238   \n",
       "8955  120400      0.469813                1.0      1.0       1.0        32765   \n",
       "6098  352297      0.515813                1.0      0.0       1.0        32765   \n",
       "\n",
       "      ANNUAL_MILEAGE  SPEEDING_VIOLATIONS  DUIS  PAST_ACCIDENTS  OUTCOME  \\\n",
       "5141    15000.000000                    0     0               1      1.0   \n",
       "3556    14000.000000                    0     1               1      0.0   \n",
       "6330     7000.000000                    2     0               1      0.0   \n",
       "4472    14000.000000                    2     1               0      0.0   \n",
       "9444    13000.000000                    0     0               0      1.0   \n",
       "2718    12000.000000                    0     3               1      0.0   \n",
       "3568    13000.000000                    0     0               0      1.0   \n",
       "1401     8000.000000                   11     1               0      0.0   \n",
       "951     11000.000000                    5     0               0      0.0   \n",
       "8249     8000.000000                    2     0               1      0.0   \n",
       "6359    14000.000000                    0     0               0      0.0   \n",
       "1484    11697.003207                    1     0               2      0.0   \n",
       "2532    12000.000000                    0     0               0      1.0   \n",
       "5204    10000.000000                    0     0               0      1.0   \n",
       "4819    15000.000000                    3     0               2      0.0   \n",
       "7325    15000.000000                    0     0               0      1.0   \n",
       "4004    12000.000000                    0     0               0      1.0   \n",
       "1025    12000.000000                    0     0               1      0.0   \n",
       "8955     6000.000000                    9     1               2      0.0   \n",
       "6098    11000.000000                    6     0               2      0.0   \n",
       "\n",
       "      AGE_Num  GENDER_Num  RACE_Num  DRIVING_EXPERIENCE_Num  EDUCATION_Num  \\\n",
       "5141        1           1         0                       1              1   \n",
       "3556        2           0         0                       2              2   \n",
       "6330        3           0         0                       2              2   \n",
       "4472        3           0         0                       3              1   \n",
       "9444        0           0         0                       0              1   \n",
       "2718        3           0         0                       3              1   \n",
       "3568        0           1         0                       0              0   \n",
       "1401        3           0         0                       3              0   \n",
       "951         2           1         0                       1              2   \n",
       "8249        1           1         0                       1              2   \n",
       "6359        2           0         0                       2              0   \n",
       "1484        2           0         0                       2              2   \n",
       "2532        2           1         1                       0              0   \n",
       "5204        0           0         0                       0              0   \n",
       "4819        3           0         0                       3              0   \n",
       "7325        0           0         0                       0              0   \n",
       "4004        0           0         0                       0              0   \n",
       "1025        1           0         0                       1              0   \n",
       "8955        3           0         0                       3              0   \n",
       "6098        2           0         0                       2              0   \n",
       "\n",
       "      INCOME_Num  VEHICLE_YEAR_Num  VEHICLE_TYPE_Num  \n",
       "5141           3                 1                 0  \n",
       "3556           2                 0                 0  \n",
       "6330           2                 1                 0  \n",
       "4472           2                 1                 0  \n",
       "9444           1                 1                 0  \n",
       "2718           3                 0                 0  \n",
       "3568           1                 1                 0  \n",
       "1401           2                 1                 1  \n",
       "951            2                 1                 0  \n",
       "8249           2                 1                 0  \n",
       "6359           2                 1                 0  \n",
       "1484           2                 1                 0  \n",
       "2532           0                 1                 0  \n",
       "5204           1                 1                 0  \n",
       "4819           0                 1                 0  \n",
       "7325           3                 1                 1  \n",
       "4004           1                 1                 0  \n",
       "1025           3                 1                 0  \n",
       "8955           2                 0                 0  \n",
       "6098           0                 1                 0  "
      ]
     },
     "execution_count": 19,
     "metadata": {},
     "output_type": "execute_result"
    }
   ],
   "source": [
    "df_int.sample(20)"
   ]
  },
  {
   "cell_type": "code",
   "execution_count": 20,
   "id": "6e1d380d",
   "metadata": {},
   "outputs": [
    {
     "data": {
      "text/plain": [
       "ID                        0\n",
       "CREDIT_SCORE              0\n",
       "VEHICLE_OWNERSHIP         0\n",
       "MARRIED                   0\n",
       "CHILDREN                  0\n",
       "POSTAL_CODE               0\n",
       "ANNUAL_MILEAGE            0\n",
       "SPEEDING_VIOLATIONS       0\n",
       "DUIS                      0\n",
       "PAST_ACCIDENTS            0\n",
       "OUTCOME                   0\n",
       "AGE_Num                   0\n",
       "GENDER_Num                0\n",
       "RACE_Num                  0\n",
       "DRIVING_EXPERIENCE_Num    0\n",
       "EDUCATION_Num             0\n",
       "INCOME_Num                0\n",
       "VEHICLE_YEAR_Num          0\n",
       "VEHICLE_TYPE_Num          0\n",
       "dtype: int64"
      ]
     },
     "execution_count": 20,
     "metadata": {},
     "output_type": "execute_result"
    }
   ],
   "source": [
    "df_int.isnull().sum()"
   ]
  },
  {
   "cell_type": "markdown",
   "id": "7cc121ea",
   "metadata": {},
   "source": [
    "# Outliers Removal"
   ]
  },
  {
   "cell_type": "code",
   "execution_count": 21,
   "id": "c80cf643",
   "metadata": {},
   "outputs": [
    {
     "data": {
      "image/png": "[encoded data removed]",
      "text/plain": [
       "<Figure size 2000x1500 with 1 Axes>"
      ]
     },
     "metadata": {},
     "output_type": "display_data"
    }
   ],
   "source": [
    "# boxplot of all the features\n",
    "\n",
    "# create boxplot of all the features\n",
    "df_int.boxplot(figsize=(20,15))\n",
    "\n",
    "# add title with size and position\n",
    "plt.suptitle('Boxplot',x=0.5,y=1.02,ha='center',fontsize='large')\n",
    "\n",
    "# maintain perfect gaps between all plots\n",
    "plt.tight_layout()\n",
    "plt.show()"
   ]
  },
  {
   "cell_type": "code",
   "execution_count": 22,
   "id": "fcde8c52",
   "metadata": {},
   "outputs": [
    {
     "name": "stdout",
     "output_type": "stream",
     "text": [
      "ID 0\n",
      "CREDIT_SCORE 57\n",
      "VEHICLE_OWNERSHIP 0\n",
      "MARRIED 0\n",
      "CHILDREN 0\n",
      "POSTAL_CODE 484\n",
      "ANNUAL_MILEAGE 273\n",
      "SPEEDING_VIOLATIONS 588\n",
      "DUIS 1882\n",
      "PAST_ACCIDENTS 285\n",
      "AGE_Num 0\n",
      "GENDER_Num 0\n",
      "RACE_Num 988\n",
      "DRIVING_EXPERIENCE_Num 0\n",
      "EDUCATION_Num 0\n",
      "INCOME_Num 0\n",
      "VEHICLE_YEAR_Num 0\n",
      "VEHICLE_TYPE_Num 477\n"
     ]
    }
   ],
   "source": [
    "# checking the outliers in dataframe\n",
    "def detect_Outliers(df):\n",
    "\n",
    "    for feature in df.drop(\"OUTCOME\", axis=1).columns:\n",
    "        Q1 = df[feature].quantile(0.25)\n",
    "        Q3 = df[feature].quantile(0.75)\n",
    "        IQR = Q3 - Q1\n",
    "        lower_limit = Q1 - 1.5 * IQR\n",
    "        upper_limit = Q3 + 1.5 * IQR\n",
    "\n",
    "        outliers = df.loc[(df[feature] < lower_limit) | (df[feature] > upper_limit), feature]\n",
    "\n",
    "        print(feature, outliers.shape[0])\n",
    "\n",
    "detect_Outliers(df_int)"
   ]
  },
  {
   "cell_type": "markdown",
   "id": "daccd2fa",
   "metadata": {},
   "source": [
    "### Since DUIS, past accidents, speeding violations, race_num and vehicle_type_num are essential and categorical values, so we cannot remove them "
   ]
  },
  {
   "cell_type": "code",
   "execution_count": 23,
   "id": "1aba572e",
   "metadata": {},
   "outputs": [],
   "source": [
    "df_int_copy=df_int.copy()\n",
    "# df_int contains dataset with outliers and df_int_copy contains dataset without outliers"
   ]
  },
  {
   "cell_type": "code",
   "execution_count": 24,
   "id": "6fde70b3",
   "metadata": {},
   "outputs": [
    {
     "data": {
      "image/png": "[encoded data removed]",
      "text/plain": [
       "<Figure size 1500x1500 with 3 Axes>"
      ]
     },
     "metadata": {},
     "output_type": "display_data"
    }
   ],
   "source": [
    "# let's plot the boxplot for all 6 outliers columns w.r.t target feature\n",
    "plt.figure(figsize=(15,15))\n",
    "\n",
    "plt.subplot(2,2,1)\n",
    "sns.boxplot(y=df_int_copy['CREDIT_SCORE'],data=df_int_copy)\n",
    "plt.title('CREDIT_SCORE')\n",
    "\n",
    "plt.subplot(2,2,2)\n",
    "sns.boxplot(y=df_int_copy['POSTAL_CODE'],data=df_int_copy)\n",
    "plt.title('POSTAL_CODE')\n",
    "\n",
    "plt.subplot(2,2,3)\n",
    "sns.boxplot(y=df_int_copy['ANNUAL_MILEAGE'],data=df_int_copy)\n",
    "plt.title('ANNUAL_MILEAGE')\n",
    "\n",
    "plt.tight_layout()\n",
    "plt.show()"
   ]
  },
  {
   "cell_type": "code",
   "execution_count": 27,
   "id": "d748b18b",
   "metadata": {},
   "outputs": [
    {
     "name": "stdout",
     "output_type": "stream",
     "text": [
      "25 percentile= 0.4315093930448983\n",
      "75 percentile= 0.6076065021784294\n",
      "0.17609710913353105\n",
      "0.871752165878726\n",
      "0.16736372934460175\n"
     ]
    },
    {
     "data": {
      "image/png": "[encoded data removed]",
      "text/plain": [
       "<Figure size 1600x800 with 2 Axes>"
      ]
     },
     "metadata": {},
     "output_type": "display_data"
    }
   ],
   "source": [
    "percentile25=df_int_copy['CREDIT_SCORE'].quantile(0.25)\n",
    "percentile75=df_int_copy['CREDIT_SCORE'].quantile(0.75)\n",
    "print('25 percentile=',percentile25)\n",
    "print('75 percentile=',percentile75)\n",
    "IQR=percentile75-percentile25\n",
    "print(IQR)\n",
    "upper_limit=percentile75+1.5*IQR\n",
    "lower_limit=percentile25-1.5*IQR\n",
    "print(upper_limit)\n",
    "print(lower_limit)\n",
    "df_int_copy_cap=df_int_copy.copy()\n",
    "df_int_copy_cap['CREDIT_SCORE']=np.where(\n",
    "    df_int_copy_cap['CREDIT_SCORE']>upper_limit,\n",
    "    upper_limit,\n",
    "    np.where(\n",
    "        df_int_copy_cap['CREDIT_SCORE']<lower_limit,\n",
    "        lower_limit,\n",
    "        df_int_copy_cap['CREDIT_SCORE']\n",
    "    )\n",
    ")\n",
    "plt.figure(figsize=(16,8))\n",
    "plt.subplot(1,2,1)\n",
    "sns.boxplot(df_int_copy['CREDIT_SCORE'])\n",
    "plt.subplot(1,2,2)\n",
    "sns.boxplot(df_int_copy_cap['CREDIT_SCORE'])\n",
    "plt.show()"
   ]
  },
  {
   "cell_type": "code",
   "execution_count": 28,
   "id": "b51d08c3",
   "metadata": {},
   "outputs": [
    {
     "name": "stdout",
     "output_type": "stream",
     "text": [
      "25 percentile= 10238.0\n",
      "75 percentile= 32765.0\n",
      "22527.0\n",
      "66555.5\n",
      "-23552.5\n"
     ]
    },
    {
     "data": {
      "image/png": "[encoded data removed]",
      "text/plain": [
       "<Figure size 1600x800 with 2 Axes>"
      ]
     },
     "metadata": {},
     "output_type": "display_data"
    }
   ],
   "source": [
    "percentile25=df_int_copy['POSTAL_CODE'].quantile(0.25)\n",
    "percentile75=df_int_copy['POSTAL_CODE'].quantile(0.75)\n",
    "print('25 percentile=',percentile25)\n",
    "print('75 percentile=',percentile75)\n",
    "IQR=percentile75-percentile25\n",
    "print(IQR)\n",
    "upper_limit=percentile75+1.5*IQR\n",
    "lower_limit=percentile25-1.5*IQR\n",
    "print(upper_limit)\n",
    "print(lower_limit)\n",
    "df_int_copy_cap=df_int_copy.copy()\n",
    "df_int_copy_cap['POSTAL_CODE']=np.where(\n",
    "    df_int_copy_cap['POSTAL_CODE']>upper_limit,\n",
    "    upper_limit,\n",
    "    np.where(\n",
    "        df_int_copy_cap['POSTAL_CODE']<lower_limit,\n",
    "        lower_limit,\n",
    "        df_int_copy_cap['POSTAL_CODE']\n",
    "    )\n",
    ")\n",
    "plt.figure(figsize=(16,8))\n",
    "plt.subplot(1,2,1)\n",
    "sns.boxplot(df_int_copy['POSTAL_CODE'])\n",
    "plt.subplot(1,2,2)\n",
    "sns.boxplot(df_int_copy_cap['POSTAL_CODE'])\n",
    "plt.show()"
   ]
  },
  {
   "cell_type": "code",
   "execution_count": 29,
   "id": "c4fa2813",
   "metadata": {},
   "outputs": [
    {
     "name": "stdout",
     "output_type": "stream",
     "text": [
      "25 percentile= 10000.0\n",
      "75 percentile= 13000.0\n",
      "3000.0\n",
      "17500.0\n",
      "5500.0\n"
     ]
    },
    {
     "data": {
      "image/png": "[encoded data removed]",
      "text/plain": [
       "<Figure size 1600x800 with 2 Axes>"
      ]
     },
     "metadata": {},
     "output_type": "display_data"
    }
   ],
   "source": [
    "percentile25=df_int_copy['ANNUAL_MILEAGE'].quantile(0.25)\n",
    "percentile75=df_int_copy['ANNUAL_MILEAGE'].quantile(0.75)\n",
    "print('25 percentile=',percentile25)\n",
    "print('75 percentile=',percentile75)\n",
    "IQR=percentile75-percentile25\n",
    "print(IQR)\n",
    "upper_limit=percentile75+1.5*IQR\n",
    "lower_limit=percentile25-1.5*IQR\n",
    "print(upper_limit)\n",
    "print(lower_limit)\n",
    "df_int_copy_cap=df_int_copy.copy()\n",
    "df_int_copy_cap['ANNUAL_MILEAGE']=np.where(\n",
    "    df_int_copy_cap['ANNUAL_MILEAGE']>upper_limit,\n",
    "    upper_limit,\n",
    "    np.where(\n",
    "        df_int_copy_cap['ANNUAL_MILEAGE']<lower_limit,\n",
    "        lower_limit,\n",
    "        df_int_copy_cap['ANNUAL_MILEAGE']\n",
    "    )\n",
    ")\n",
    "plt.figure(figsize=(16,8))\n",
    "plt.subplot(1,2,1)\n",
    "sns.boxplot(df_int_copy['ANNUAL_MILEAGE'])\n",
    "plt.subplot(1,2,2)\n",
    "sns.boxplot(df_int_copy_cap['ANNUAL_MILEAGE'])\n",
    "plt.show()"
   ]
  },
  {
   "cell_type": "code",
   "execution_count": 30,
   "id": "87dc144d",
   "metadata": {},
   "outputs": [
    {
     "data": {
      "text/plain": [
       "(10000, 19)"
      ]
     },
     "execution_count": 30,
     "metadata": {},
     "output_type": "execute_result"
    }
   ],
   "source": [
    "df_int_copy.shape\n",
    "# df_int_copy_cap.shape"
   ]
  },
  {
   "cell_type": "code",
   "execution_count": 31,
   "id": "561bbea6",
   "metadata": {},
   "outputs": [
    {
     "data": {
      "text/plain": [
       "(10000, 19)"
      ]
     },
     "execution_count": 31,
     "metadata": {},
     "output_type": "execute_result"
    }
   ],
   "source": [
    "df_int_copy_cap.shape"
   ]
  },
  {
   "cell_type": "code",
   "execution_count": 32,
   "id": "43875ccd",
   "metadata": {},
   "outputs": [],
   "source": [
    "df_int_copy=df_int_copy_cap"
   ]
  },
  {
   "cell_type": "code",
   "execution_count": 33,
   "id": "cbed3781",
   "metadata": {},
   "outputs": [],
   "source": [
    "# 2 datasets df_int (with outliers) and df_int_copy (without outliers)"
   ]
  },
  {
   "cell_type": "markdown",
   "id": "4e7236e9",
   "metadata": {},
   "source": [
    "# Splitting1\n"
   ]
  },
  {
   "cell_type": "code",
   "execution_count": 114,
   "id": "cb44d04c",
   "metadata": {},
   "outputs": [],
   "source": [
    "# Here I used 'df_copy' which is an copied dataframe without outliers\n",
    "# without outliers\n",
    "# input features\n",
    "X = df_int.drop('OUTCOME',axis=1)\n",
    "\n",
    "# output feature\n",
    "y = df_int['OUTCOME']"
   ]
  },
  {
   "cell_type": "markdown",
   "id": "7c5efe5d",
   "metadata": {},
   "source": [
    "# Splitting2"
   ]
  },
  {
   "cell_type": "code",
   "execution_count": 115,
   "id": "b3606e52",
   "metadata": {},
   "outputs": [],
   "source": [
    "# Here I used 'df_copy' which is an copied dataframe without outliers\n",
    "# without outliers\n",
    "# input features\n",
    "X = df_int_copy.drop('OUTCOME',axis=1)\n",
    "\n",
    "# output feature\n",
    "y = df_int_copy['OUTCOME']"
   ]
  },
  {
   "cell_type": "code",
   "execution_count": 116,
   "id": "b79d8630",
   "metadata": {},
   "outputs": [],
   "source": [
    "from sklearn.model_selection import train_test_split\n",
    "X_train, X_test, y_train, y_test = train_test_split(X, y, test_size=0.25, random_state=42)"
   ]
  },
  {
   "cell_type": "markdown",
   "id": "0ac3a9fd",
   "metadata": {},
   "source": [
    "# scaling"
   ]
  },
  {
   "cell_type": "code",
   "execution_count": 117,
   "id": "2e136715",
   "metadata": {},
   "outputs": [],
   "source": [
    "# scaling or normalize train and test data\n",
    "from sklearn.preprocessing import MinMaxScaler\n",
    "scaler = MinMaxScaler()\n",
    "\n",
    "# X train data\n",
    "X_train = scaler.fit_transform(X_train)\n",
    "\n",
    "# X test data\n",
    "X_test = scaler.transform(X_test)"
   ]
  },
  {
   "cell_type": "markdown",
   "id": "2537d4df",
   "metadata": {},
   "source": [
    "# Model Implementation"
   ]
  },
  {
   "cell_type": "markdown",
   "id": "c4f6a730",
   "metadata": {},
   "source": [
    "# Adaboost Classifier"
   ]
  },
  {
   "cell_type": "code",
   "execution_count": 118,
   "id": "d0d5aa48",
   "metadata": {},
   "outputs": [
    {
     "data": {
      "text/html": [
       "<style>#sk-container-id-3 {color: black;}#sk-container-id-3 pre{padding: 0;}#sk-container-id-3 div.sk-toggleable {background-color: white;}#sk-container-id-3 label.sk-toggleable__label {cursor: pointer;display: block;width: 100%;margin-bottom: 0;padding: 0.3em;box-sizing: border-box;text-align: center;}#sk-container-id-3 label.sk-toggleable__label-arrow:before {content: \"▸\";float: left;margin-right: 0.25em;color: #696969;}#sk-container-id-3 label.sk-toggleable__label-arrow:hover:before {color: black;}#sk-container-id-3 div.sk-estimator:hover label.sk-toggleable__label-arrow:before {color: black;}#sk-container-id-3 div.sk-toggleable__content {max-height: 0;max-width: 0;overflow: hidden;text-align: left;background-color: #f0f8ff;}#sk-container-id-3 div.sk-toggleable__content pre {margin: 0.2em;color: black;border-radius: 0.25em;background-color: #f0f8ff;}#sk-container-id-3 input.sk-toggleable__control:checked~div.sk-toggleable__content {max-height: 200px;max-width: 100%;overflow: auto;}#sk-container-id-3 input.sk-toggleable__control:checked~label.sk-toggleable__label-arrow:before {content: \"▾\";}#sk-container-id-3 div.sk-estimator input.sk-toggleable__control:checked~label.sk-toggleable__label {background-color: #d4ebff;}#sk-container-id-3 div.sk-label input.sk-toggleable__control:checked~label.sk-toggleable__label {background-color: #d4ebff;}#sk-container-id-3 input.sk-hidden--visually {border: 0;clip: rect(1px 1px 1px 1px);clip: rect(1px, 1px, 1px, 1px);height: 1px;margin: -1px;overflow: hidden;padding: 0;position: absolute;width: 1px;}#sk-container-id-3 div.sk-estimator {font-family: monospace;background-color: #f0f8ff;border: 1px dotted black;border-radius: 0.25em;box-sizing: border-box;margin-bottom: 0.5em;}#sk-container-id-3 div.sk-estimator:hover {background-color: #d4ebff;}#sk-container-id-3 div.sk-parallel-item::after {content: \"\";width: 100%;border-bottom: 1px solid gray;flex-grow: 1;}#sk-container-id-3 div.sk-label:hover label.sk-toggleable__label {background-color: #d4ebff;}#sk-container-id-3 div.sk-serial::before {content: \"\";position: absolute;border-left: 1px solid gray;box-sizing: border-box;top: 0;bottom: 0;left: 50%;z-index: 0;}#sk-container-id-3 div.sk-serial {display: flex;flex-direction: column;align-items: center;background-color: white;padding-right: 0.2em;padding-left: 0.2em;position: relative;}#sk-container-id-3 div.sk-item {position: relative;z-index: 1;}#sk-container-id-3 div.sk-parallel {display: flex;align-items: stretch;justify-content: center;background-color: white;position: relative;}#sk-container-id-3 div.sk-item::before, #sk-container-id-3 div.sk-parallel-item::before {content: \"\";position: absolute;border-left: 1px solid gray;box-sizing: border-box;top: 0;bottom: 0;left: 50%;z-index: -1;}#sk-container-id-3 div.sk-parallel-item {display: flex;flex-direction: column;z-index: 1;position: relative;background-color: white;}#sk-container-id-3 div.sk-parallel-item:first-child::after {align-self: flex-end;width: 50%;}#sk-container-id-3 div.sk-parallel-item:last-child::after {align-self: flex-start;width: 50%;}#sk-container-id-3 div.sk-parallel-item:only-child::after {width: 0;}#sk-container-id-3 div.sk-dashed-wrapped {border: 1px dashed gray;margin: 0 0.4em 0.5em 0.4em;box-sizing: border-box;padding-bottom: 0.4em;background-color: white;}#sk-container-id-3 div.sk-label label {font-family: monospace;font-weight: bold;display: inline-block;line-height: 1.2em;}#sk-container-id-3 div.sk-label-container {text-align: center;}#sk-container-id-3 div.sk-container {/* jupyter's `normalize.less` sets `[hidden] { display: none; }` but bootstrap.min.css set `[hidden] { display: none !important; }` so we also need the `!important` here to be able to override the default hidden behavior on the sphinx rendered scikit-learn.org. See: https://github.com/scikit-learn/scikit-learn/issues/21755 */display: inline-block !important;position: relative;}#sk-container-id-3 div.sk-text-repr-fallback {display: none;}</style><div id=\"sk-container-id-3\" class=\"sk-top-container\"><div class=\"sk-text-repr-fallback\"><pre>AdaBoostClassifier(n_estimators=100, random_state=1)</pre><b>In a Jupyter environment, please rerun this cell to show the HTML representation or trust the notebook. <br />On GitHub, the HTML representation is unable to render, please try loading this page with nbviewer.org.</b></div><div class=\"sk-container\" hidden><div class=\"sk-item\"><div class=\"sk-estimator sk-toggleable\"><input class=\"sk-toggleable__control sk-hidden--visually\" id=\"sk-estimator-id-3\" type=\"checkbox\" checked><label for=\"sk-estimator-id-3\" class=\"sk-toggleable__label sk-toggleable__label-arrow\">AdaBoostClassifier</label><div class=\"sk-toggleable__content\"><pre>AdaBoostClassifier(n_estimators=100, random_state=1)</pre></div></div></div></div></div>"
      ],
      "text/plain": [
       "AdaBoostClassifier(n_estimators=100, random_state=1)"
      ]
     },
     "execution_count": 118,
     "metadata": {},
     "output_type": "execute_result"
    }
   ],
   "source": [
    "from sklearn.ensemble import AdaBoostClassifier\n",
    "Ada = AdaBoostClassifier(n_estimators=100, random_state=1)\n",
    "Ada.fit(X_train, y_train)"
   ]
  },
  {
   "cell_type": "code",
   "execution_count": 119,
   "id": "8fc1bdae",
   "metadata": {
    "scrolled": true
   },
   "outputs": [
    {
     "name": "stdout",
     "output_type": "stream",
     "text": [
      "Accuracy:0.8404\n",
      "f1 Score: 0.8078463788144421\n",
      "Recall: 0.7990660837439711\n",
      "Precision: 0.8194451093217932\n",
      "Jaccard Score: 0.6850526046374854\n"
     ]
    }
   ],
   "source": [
    "y_pred=Ada.predict(X_test)\n",
    "from sklearn.metrics import accuracy_score, f1_score,precision_score,recall_score,jaccard_score\n",
    "\n",
    "acc=accuracy_score(y_test, y_pred, normalize=True, sample_weight=None)\n",
    "f1 = f1_score(y_test, y_pred, labels=None, pos_label=1, average='macro', sample_weight=None, zero_division='warn')\n",
    "re =recall_score(y_test, y_pred,labels=None, pos_label=1, average='macro', sample_weight=None, zero_division='warn')\n",
    "pre= precision_score(y_test,y_pred, labels=None, pos_label=1, average='macro', sample_weight=None, zero_division='warn')\n",
    "js = jaccard_score(y_test, y_pred,  labels=None, pos_label=1, average='macro', sample_weight=None, zero_division='warn')\n",
    "print(f'Accuracy:{acc}')\n",
    "print(f'f1 Score: {f1}')\n",
    "print(f'Recall: {re}')\n",
    "print(f'Precision: {pre}')\n",
    "print(f'Jaccard Score: {js}')"
   ]
  },
  {
   "cell_type": "code",
   "execution_count": 138,
   "id": "28afd65e",
   "metadata": {
    "scrolled": false
   },
   "outputs": [
    {
     "name": "stdout",
     "output_type": "stream",
     "text": [
      "Accuracy:0.8444\n",
      "f1 Score: 0.8120638940245208\n",
      "Recall: 0.8023213081251386\n",
      "Precision: 0.8252472669647477\n",
      "Jaccard Score: 0.6908737672865947\n"
     ]
    }
   ],
   "source": [
    "# {'learning_rate': 0.8, 'n_estimators': 100, 'random_state': 1}\n",
    "Ada = AdaBoostClassifier(n_estimators=100, random_state=1,learning_rate=0.9)\n",
    "Ada.fit(X_train, y_train)\n",
    "\n",
    "\n",
    "y_pred=Ada.predict(X_test)\n",
    "from sklearn.metrics import accuracy_score, f1_score,precision_score,recall_score,jaccard_score\n",
    "\n",
    "acc=accuracy_score(y_test, y_pred, normalize=True, sample_weight=None)\n",
    "f1 = f1_score(y_test, y_pred, labels=None, pos_label=1, average='macro', sample_weight=None, zero_division='warn')\n",
    "re =recall_score(y_test, y_pred,labels=None, pos_label=1, average='macro', sample_weight=None, zero_division='warn')\n",
    "pre= precision_score(y_test,y_pred, labels=None, pos_label=1, average='macro', sample_weight=None, zero_division='warn')\n",
    "js = jaccard_score(y_test, y_pred,  labels=None, pos_label=1, average='macro', sample_weight=None, zero_division='warn')\n",
    "print(f'Accuracy:{acc}')\n",
    "print(f'f1 Score: {f1}')\n",
    "print(f'Recall: {re}')\n",
    "print(f'Precision: {pre}')\n",
    "print(f'Jaccard Score: {js}')"
   ]
  },
  {
   "cell_type": "code",
   "execution_count": 139,
   "id": "e92431e0",
   "metadata": {},
   "outputs": [
    {
     "name": "stdout",
     "output_type": "stream",
     "text": [
      "[[1574  149]\n",
      " [ 240  537]]\n"
     ]
    }
   ],
   "source": [
    "from sklearn.metrics import confusion_matrix\n",
    "confusion=confusion_matrix(y_test, y_pred)\n",
    "print(confusion)"
   ]
  },
  {
   "cell_type": "markdown",
   "id": "a1b87b9a",
   "metadata": {},
   "source": [
    "# KNN "
   ]
  },
  {
   "cell_type": "code",
   "execution_count": 82,
   "id": "3626c697",
   "metadata": {},
   "outputs": [
    {
     "data": {
      "text/plain": [
       "86.60254037844386"
      ]
     },
     "execution_count": 82,
     "metadata": {},
     "output_type": "execute_result"
    }
   ],
   "source": [
    "from sklearn.neighbors import KNeighborsClassifier\n",
    "from sklearn.model_selection import train_test_split, GridSearchCV\n",
    "from sklearn.metrics import accuracy_score, precision_score, recall_score, f1_score,jaccard_score\n",
    "k= np.sqrt(len(X_train))\n",
    "k"
   ]
  },
  {
   "cell_type": "code",
   "execution_count": 83,
   "id": "80a0feea",
   "metadata": {},
   "outputs": [
    {
     "data": {
      "text/html": [
       "<style>#sk-container-id-2 {color: black;}#sk-container-id-2 pre{padding: 0;}#sk-container-id-2 div.sk-toggleable {background-color: white;}#sk-container-id-2 label.sk-toggleable__label {cursor: pointer;display: block;width: 100%;margin-bottom: 0;padding: 0.3em;box-sizing: border-box;text-align: center;}#sk-container-id-2 label.sk-toggleable__label-arrow:before {content: \"▸\";float: left;margin-right: 0.25em;color: #696969;}#sk-container-id-2 label.sk-toggleable__label-arrow:hover:before {color: black;}#sk-container-id-2 div.sk-estimator:hover label.sk-toggleable__label-arrow:before {color: black;}#sk-container-id-2 div.sk-toggleable__content {max-height: 0;max-width: 0;overflow: hidden;text-align: left;background-color: #f0f8ff;}#sk-container-id-2 div.sk-toggleable__content pre {margin: 0.2em;color: black;border-radius: 0.25em;background-color: #f0f8ff;}#sk-container-id-2 input.sk-toggleable__control:checked~div.sk-toggleable__content {max-height: 200px;max-width: 100%;overflow: auto;}#sk-container-id-2 input.sk-toggleable__control:checked~label.sk-toggleable__label-arrow:before {content: \"▾\";}#sk-container-id-2 div.sk-estimator input.sk-toggleable__control:checked~label.sk-toggleable__label {background-color: #d4ebff;}#sk-container-id-2 div.sk-label input.sk-toggleable__control:checked~label.sk-toggleable__label {background-color: #d4ebff;}#sk-container-id-2 input.sk-hidden--visually {border: 0;clip: rect(1px 1px 1px 1px);clip: rect(1px, 1px, 1px, 1px);height: 1px;margin: -1px;overflow: hidden;padding: 0;position: absolute;width: 1px;}#sk-container-id-2 div.sk-estimator {font-family: monospace;background-color: #f0f8ff;border: 1px dotted black;border-radius: 0.25em;box-sizing: border-box;margin-bottom: 0.5em;}#sk-container-id-2 div.sk-estimator:hover {background-color: #d4ebff;}#sk-container-id-2 div.sk-parallel-item::after {content: \"\";width: 100%;border-bottom: 1px solid gray;flex-grow: 1;}#sk-container-id-2 div.sk-label:hover label.sk-toggleable__label {background-color: #d4ebff;}#sk-container-id-2 div.sk-serial::before {content: \"\";position: absolute;border-left: 1px solid gray;box-sizing: border-box;top: 0;bottom: 0;left: 50%;z-index: 0;}#sk-container-id-2 div.sk-serial {display: flex;flex-direction: column;align-items: center;background-color: white;padding-right: 0.2em;padding-left: 0.2em;position: relative;}#sk-container-id-2 div.sk-item {position: relative;z-index: 1;}#sk-container-id-2 div.sk-parallel {display: flex;align-items: stretch;justify-content: center;background-color: white;position: relative;}#sk-container-id-2 div.sk-item::before, #sk-container-id-2 div.sk-parallel-item::before {content: \"\";position: absolute;border-left: 1px solid gray;box-sizing: border-box;top: 0;bottom: 0;left: 50%;z-index: -1;}#sk-container-id-2 div.sk-parallel-item {display: flex;flex-direction: column;z-index: 1;position: relative;background-color: white;}#sk-container-id-2 div.sk-parallel-item:first-child::after {align-self: flex-end;width: 50%;}#sk-container-id-2 div.sk-parallel-item:last-child::after {align-self: flex-start;width: 50%;}#sk-container-id-2 div.sk-parallel-item:only-child::after {width: 0;}#sk-container-id-2 div.sk-dashed-wrapped {border: 1px dashed gray;margin: 0 0.4em 0.5em 0.4em;box-sizing: border-box;padding-bottom: 0.4em;background-color: white;}#sk-container-id-2 div.sk-label label {font-family: monospace;font-weight: bold;display: inline-block;line-height: 1.2em;}#sk-container-id-2 div.sk-label-container {text-align: center;}#sk-container-id-2 div.sk-container {/* jupyter's `normalize.less` sets `[hidden] { display: none; }` but bootstrap.min.css set `[hidden] { display: none !important; }` so we also need the `!important` here to be able to override the default hidden behavior on the sphinx rendered scikit-learn.org. See: https://github.com/scikit-learn/scikit-learn/issues/21755 */display: inline-block !important;position: relative;}#sk-container-id-2 div.sk-text-repr-fallback {display: none;}</style><div id=\"sk-container-id-2\" class=\"sk-top-container\"><div class=\"sk-text-repr-fallback\"><pre>KNeighborsClassifier(n_neighbors=87)</pre><b>In a Jupyter environment, please rerun this cell to show the HTML representation or trust the notebook. <br />On GitHub, the HTML representation is unable to render, please try loading this page with nbviewer.org.</b></div><div class=\"sk-container\" hidden><div class=\"sk-item\"><div class=\"sk-estimator sk-toggleable\"><input class=\"sk-toggleable__control sk-hidden--visually\" id=\"sk-estimator-id-2\" type=\"checkbox\" checked><label for=\"sk-estimator-id-2\" class=\"sk-toggleable__label sk-toggleable__label-arrow\">KNeighborsClassifier</label><div class=\"sk-toggleable__content\"><pre>KNeighborsClassifier(n_neighbors=87)</pre></div></div></div></div></div>"
      ],
      "text/plain": [
       "KNeighborsClassifier(n_neighbors=87)"
      ]
     },
     "execution_count": 83,
     "metadata": {},
     "output_type": "execute_result"
    }
   ],
   "source": [
    "k=87\n",
    "knnmodel=KNeighborsClassifier(n_neighbors=k)\n",
    "knnmodel.fit(X_train,y_train)"
   ]
  },
  {
   "cell_type": "code",
   "execution_count": 84,
   "id": "52b93c57",
   "metadata": {},
   "outputs": [
    {
     "name": "stdout",
     "output_type": "stream",
     "text": [
      "Accuracy:0.8084\n",
      "f1 Score: 0.763935912789351\n",
      "Recall: 0.7518257416690383\n",
      "Precision: 0.7837958644932977\n",
      "Jaccard Score: 0.6292319196966799\n"
     ]
    }
   ],
   "source": [
    "y_pred=knnmodel.predict(X_test)\n",
    "\n",
    "acc=accuracy_score(y_test, y_pred, normalize=True, sample_weight=None)\n",
    "f1 = f1_score(y_test, y_pred, labels=None, pos_label=1, average='macro', sample_weight=None, zero_division='warn')\n",
    "re =recall_score(y_test, y_pred,labels=None, pos_label=1, average='macro', sample_weight=None, zero_division='warn')\n",
    "pre= precision_score(y_test,y_pred, labels=None, pos_label=1, average='macro', sample_weight=None, zero_division='warn')\n",
    "js = jaccard_score(y_test, y_pred,  labels=None, pos_label=1, average='macro', sample_weight=None, zero_division='warn')\n",
    "print(f'Accuracy:{acc}')\n",
    "print(f'f1 Score: {f1}')\n",
    "print(f'Recall: {re}')\n",
    "print(f'Precision: {pre}')\n",
    "print(f'Jaccard Score: {js}')"
   ]
  },
  {
   "cell_type": "code",
   "execution_count": 113,
   "id": "922b2422",
   "metadata": {},
   "outputs": [
    {
     "name": "stdout",
     "output_type": "stream",
     "text": [
      "Accuracy:0.8288\n",
      "f1 Score: 0.7907558680267925\n",
      "Recall: 0.7789913286140796\n",
      "Precision: 0.8084652859848156\n",
      "Jaccard Score: 0.6629788936896215\n"
     ]
    }
   ],
   "source": [
    "#best parameters(grid search cv): 'metric': 'manhattan', 'n_neighbors': 5\n",
    "knnmodel=KNeighborsClassifier(metric='manhattan', n_neighbors=20)\n",
    "knnmodel.fit(X_train,y_train)\n",
    "\n",
    "y_pred=knnmodel.predict(X_test)\n",
    "\n",
    "acc=accuracy_score(y_test, y_pred, normalize=True, sample_weight=None)\n",
    "f1 = f1_score(y_test, y_pred, labels=None, pos_label=1, average='macro', sample_weight=None, zero_division='warn')\n",
    "re =recall_score(y_test, y_pred,labels=None, pos_label=1, average='macro', sample_weight=None, zero_division='warn')\n",
    "pre= precision_score(y_test,y_pred, labels=None, pos_label=1, average='macro', sample_weight=None, zero_division='warn')\n",
    "js = jaccard_score(y_test, y_pred,  labels=None, pos_label=1, average='macro', sample_weight=None, zero_division='warn')\n",
    "print(f'Accuracy:{acc}')\n",
    "print(f'f1 Score: {f1}')\n",
    "print(f'Recall: {re}')\n",
    "print(f'Precision: {pre}')\n",
    "print(f'Jaccard Score: {js}')"
   ]
  },
  {
   "cell_type": "code",
   "execution_count": 111,
   "id": "6a8a2d13",
   "metadata": {},
   "outputs": [
    {
     "name": "stdout",
     "output_type": "stream",
     "text": [
      "[[1569  154]\n",
      " [ 274  503]]\n"
     ]
    }
   ],
   "source": [
    "from sklearn.metrics import confusion_matrix\n",
    "confusion=confusion_matrix(y_test, y_pred)\n",
    "print(confusion)"
   ]
  },
  {
   "cell_type": "markdown",
   "id": "365ce89d",
   "metadata": {},
   "source": [
    "# Naive Bayes Classification "
   ]
  },
  {
   "cell_type": "code",
   "execution_count": 79,
   "id": "fe22d7c5",
   "metadata": {},
   "outputs": [
    {
     "name": "stdout",
     "output_type": "stream",
     "text": [
      "Accuracy:0.7748\n",
      "f1 Score: 0.7577632364965697\n",
      "Recall: 0.7871588942395675\n",
      "Precision: 0.7518605870020965\n",
      "Jaccard Score: 0.6143162909286097\n"
     ]
    }
   ],
   "source": [
    "from sklearn.naive_bayes import GaussianNB\n",
    "from sklearn.model_selection import train_test_split\n",
    "from sklearn.metrics import accuracy_score, precision_score, recall_score, f1_score\n",
    "\n",
    "# Create the Naive Bayes classifier\n",
    "clf = GaussianNB()\n",
    "\n",
    "# Train the model\n",
    "clf.fit(X_train, y_train)\n",
    "\n",
    "# Make predictions on the test set\n",
    "y_pred = clf.predict(X_test)\n",
    "\n",
    "\n",
    "acc=accuracy_score(y_test, y_pred, normalize=True, sample_weight=None)\n",
    "f1 = f1_score(y_test, y_pred, labels=None, pos_label=1, average='macro', sample_weight=None, zero_division='warn')\n",
    "re =recall_score(y_test, y_pred,labels=None, pos_label=1, average='macro', sample_weight=None, zero_division='warn')\n",
    "pre= precision_score(y_test,y_pred, labels=None, pos_label=1, average='macro', sample_weight=None, zero_division='warn')\n",
    "js = jaccard_score(y_test, y_pred,  labels=None, pos_label=1, average='macro', sample_weight=None, zero_division='warn')\n",
    "print(f'Accuracy:{acc}')\n",
    "print(f'f1 Score: {f1}')\n",
    "print(f'Recall: {re}')\n",
    "print(f'Precision: {pre}')\n",
    "print(f'Jaccard Score: {js}')"
   ]
  },
  {
   "cell_type": "code",
   "execution_count": 80,
   "id": "b9072340",
   "metadata": {},
   "outputs": [
    {
     "name": "stdout",
     "output_type": "stream",
     "text": [
      "[[1300  423]\n",
      " [ 140  637]]\n"
     ]
    }
   ],
   "source": [
    "from sklearn.metrics import confusion_matrix\n",
    "confusion=confusion_matrix(y_test, y_pred)\n",
    "print(confusion)"
   ]
  },
  {
   "cell_type": "code",
   "execution_count": 61,
   "id": "87d6b84b",
   "metadata": {},
   "outputs": [
    {
     "name": "stdout",
     "output_type": "stream",
     "text": [
      "\n",
      "Best hyperparameters:  {'var_smoothing': 1e-09}\n"
     ]
    }
   ],
   "source": [
    "from sklearn.model_selection import GridSearchCV\n",
    "\n",
    "# Hyperparameter grid for tuning \n",
    "param_grid = {\n",
    "    'var_smoothing': [1e-9, 1e-8, 1e-7, 1e-6, 1e-5]\n",
    "}\n",
    "\n",
    "# Create a GridSearchCV object\n",
    "clf = GridSearchCV(clf, param_grid=param_grid, cv=5)\n",
    "\n",
    "# Train the model with hyperparameter tuning\n",
    "clf.fit(X_train, y_train)\n",
    "\n",
    "# Access the best model and its parameters\n",
    "best_model = clf.best_estimator_\n",
    "best_params = clf.best_params_\n",
    "\n",
    "# Make predictions using the best model\n",
    "y_pred = best_model.predict(X_test)\n",
    "\n",
    "print(\"\\nBest hyperparameters: \", best_params)\n"
   ]
  },
  {
   "cell_type": "code",
   "execution_count": null,
   "id": "df76b886",
   "metadata": {},
   "outputs": [],
   "source": [
    "# Best hyperparameters (grid search cv):  {'var_smoothing': 1e-09}"
   ]
  },
  {
   "cell_type": "code",
   "execution_count": 62,
   "id": "c40ea791",
   "metadata": {},
   "outputs": [
    {
     "name": "stdout",
     "output_type": "stream",
     "text": [
      "\n",
      "After hyperparameter tuning:\n",
      "\n",
      "Accuracy with best hyperparameters: 0.7748\n",
      "Precision with best hyperparameters: 0.8089676519916142\n",
      "Recall with best hyperparameters: 0.7748\n",
      "F1-score with best hyperparameters: 0.7820721026719016\n"
     ]
    }
   ],
   "source": [
    "# Make predictions with the best model\n",
    "\n",
    "model = GaussianNB(var_smoothing=1e-09)  \n",
    "model.fit(X_train, y_train)\n",
    "\n",
    "# Make predictions on the testing set\n",
    "y_pred_best = model.predict(X_test)\n",
    "\n",
    "\n",
    "# Evaluate performance with the best model\n",
    "accuracy_best = accuracy_score(y_test, y_pred_best)\n",
    "precision_best = precision_score(y_test, y_pred_best, average='weighted')\n",
    "recall_best = recall_score(y_test, y_pred_best, average='weighted')\n",
    "f1_best = f1_score(y_test, y_pred_best, average='weighted')\n",
    "print(\"\\nAfter hyperparameter tuning:\")\n",
    "print(\"\\nAccuracy with best hyperparameters:\", accuracy_best)\n",
    "print(\"Precision with best hyperparameters:\", precision_best)\n",
    "print(\"Recall with best hyperparameters:\", recall_best)\n",
    "print(\"F1-score with best hyperparameters:\", f1_best)"
   ]
  },
  {
   "cell_type": "markdown",
   "id": "86eff0db",
   "metadata": {},
   "source": [
    "# SVC \n"
   ]
  },
  {
   "cell_type": "code",
   "execution_count": 75,
   "id": "442c986e",
   "metadata": {},
   "outputs": [
    {
     "name": "stdout",
     "output_type": "stream",
     "text": [
      "Accuracy:0.84\n",
      "f1 Score: 0.8086437896490068\n",
      "Recall: 0.8016023651543094\n",
      "Precision: 0.8174395960939607\n",
      "Jaccard Score: 0.6858861044677828\n"
     ]
    }
   ],
   "source": [
    "from sklearn.svm import SVC\n",
    "from sklearn.model_selection import train_test_split, GridSearchCV\n",
    "from sklearn.metrics import accuracy_score, precision_score, recall_score, f1_score\n",
    "\n",
    "\n",
    "# Create an SVC classifier with initial hyperparameters\n",
    "svc = SVC(kernel='rbf', C=10) \n",
    "\n",
    "# Train the SVC model\n",
    "svc.fit(X_train, y_train)\n",
    "\n",
    "# Make predictions on the test set\n",
    "y_pred = svc.predict(X_test)\n",
    "\n",
    "# Evaluate model performance\n",
    "acc=accuracy_score(y_test, y_pred, normalize=True, sample_weight=None)\n",
    "f1 = f1_score(y_test, y_pred, labels=None, pos_label=1, average='macro', sample_weight=None, zero_division='warn')\n",
    "re =recall_score(y_test, y_pred,labels=None, pos_label=1, average='macro', sample_weight=None, zero_division='warn')\n",
    "pre= precision_score(y_test,y_pred, labels=None, pos_label=1, average='macro', sample_weight=None, zero_division='warn')\n",
    "js = jaccard_score(y_test, y_pred,  labels=None, pos_label=1, average='macro', sample_weight=None, zero_division='warn')\n",
    "print(f'Accuracy:{acc}')\n",
    "print(f'f1 Score: {f1}')\n",
    "print(f'Recall: {re}')\n",
    "print(f'Precision: {pre}')\n",
    "print(f'Jaccard Score: {js}')"
   ]
  },
  {
   "cell_type": "code",
   "execution_count": 76,
   "id": "7b377719",
   "metadata": {
    "scrolled": true
   },
   "outputs": [
    {
     "name": "stdout",
     "output_type": "stream",
     "text": [
      "[[1556  167]\n",
      " [ 233  544]]\n"
     ]
    }
   ],
   "source": [
    "from sklearn.metrics import confusion_matrix\n",
    "confusion=confusion_matrix(y_test, y_pred)\n",
    "print(confusion)"
   ]
  },
  {
   "cell_type": "markdown",
   "id": "4de4b30f",
   "metadata": {},
   "source": [
    "# Logistic regression "
   ]
  },
  {
   "cell_type": "code",
   "execution_count": 69,
   "id": "ea2d9985",
   "metadata": {},
   "outputs": [
    {
     "name": "stdout",
     "output_type": "stream",
     "text": [
      "Accuracy:0.842\n",
      "f1 Score: 0.8118330434133085\n",
      "Recall: 0.8058797957230923\n",
      "Precision: 0.8189981273116484\n",
      "Jaccard Score: 0.6900606367454558\n"
     ]
    }
   ],
   "source": [
    "import numpy as np\n",
    "from sklearn.linear_model import LogisticRegression\n",
    "from sklearn.preprocessing import StandardScaler  \n",
    "from sklearn.model_selection import train_test_split, GridSearchCV\n",
    "from sklearn.metrics import accuracy_score, precision_score, recall_score, f1_score\n",
    "\n",
    "# Best Parameters after tuning(grid search cv) :  {'C': 0.75, 'random_state': 0}\n",
    "logistic_reg = LogisticRegression(C=0.75,random_state=0)\n",
    "\n",
    "# Train the logistic regression model\n",
    "logistic_reg.fit(X_train, y_train)\n",
    "\n",
    "# Make predictions on the test set\n",
    "y_pred = logistic_reg.predict(X_test)\n",
    "\n",
    "# Evaluate model performance\n",
    "acc=accuracy_score(y_test, y_pred, normalize=True, sample_weight=None)\n",
    "f1 = f1_score(y_test, y_pred, labels=None, pos_label=1, average='macro', sample_weight=None, zero_division='warn')\n",
    "re =recall_score(y_test, y_pred,labels=None, pos_label=1, average='macro', sample_weight=None, zero_division='warn')\n",
    "pre= precision_score(y_test,y_pred, labels=None, pos_label=1, average='macro', sample_weight=None, zero_division='warn')\n",
    "js = jaccard_score(y_test, y_pred,  labels=None, pos_label=1, average='macro', sample_weight=None, zero_division='warn')\n",
    "print(f'Accuracy:{acc}')\n",
    "print(f'f1 Score: {f1}')\n",
    "print(f'Recall: {re}')\n",
    "print(f'Precision: {pre}')\n",
    "print(f'Jaccard Score: {js}')"
   ]
  },
  {
   "cell_type": "code",
   "execution_count": 70,
   "id": "3caa334a",
   "metadata": {},
   "outputs": [
    {
     "name": "stdout",
     "output_type": "stream",
     "text": [
      "[[1553  170]\n",
      " [ 225  552]]\n"
     ]
    }
   ],
   "source": [
    "from sklearn.metrics import confusion_matrix\n",
    "confusion=confusion_matrix(y_test, y_pred)\n",
    "print(confusion)"
   ]
  },
  {
   "cell_type": "markdown",
   "id": "9ad0bea1",
   "metadata": {},
   "source": [
    "# Decision tree \n"
   ]
  },
  {
   "cell_type": "code",
   "execution_count": 44,
   "id": "bfc29b02",
   "metadata": {},
   "outputs": [
    {
     "name": "stdout",
     "output_type": "stream",
     "text": [
      "Accuracy:0.7816\n",
      "f1 Score: 0.7445588222084489\n",
      "Recall: 0.7440421102638166\n",
      "Precision: 0.7450878018152235\n",
      "Jaccard Score: 0.6026867301845765\n"
     ]
    }
   ],
   "source": [
    "\n",
    "from sklearn.tree import DecisionTreeClassifier\n",
    "from sklearn.model_selection import GridSearchCV\n",
    "from sklearn.metrics import accuracy_score, precision_score, recall_score, f1_score,jaccard_score\n",
    "\n",
    "dtree = DecisionTreeClassifier()\n",
    "\n",
    "# Train the decision tree model\n",
    "dtree.fit(X_train, y_train)\n",
    "\n",
    "# Make predictions on the test set\n",
    "y_pred = dtree.predict(X_test)\n",
    "\n",
    "# Evaluate model performance\n",
    "acc=accuracy_score(y_test, y_pred, normalize=True, sample_weight=None)\n",
    "f1 = f1_score(y_test, y_pred, labels=None, pos_label=1, average='macro', sample_weight=None, zero_division='warn')\n",
    "re =recall_score(y_test, y_pred,labels=None, pos_label=1, average='macro', sample_weight=None, zero_division='warn')\n",
    "pre= precision_score(y_test,y_pred, labels=None, pos_label=1, average='macro', sample_weight=None, zero_division='warn')\n",
    "js = jaccard_score(y_test, y_pred,  labels=None, pos_label=1, average='macro', sample_weight=None, zero_division='warn')\n",
    "print(f'Accuracy:{acc}')\n",
    "print(f'f1 Score: {f1}')\n",
    "print(f'Recall: {re}')\n",
    "print(f'Precision: {pre}')\n",
    "print(f'Jaccard Score: {js}')\n"
   ]
  },
  {
   "cell_type": "code",
   "execution_count": 48,
   "id": "54c65fab",
   "metadata": {},
   "outputs": [
    {
     "name": "stdout",
     "output_type": "stream",
     "text": [
      "Accuracy:0.7908\n",
      "f1 Score: 0.7572842117417267\n",
      "Recall: 0.7588426250643314\n",
      "Precision: 0.7558247524664763\n",
      "Jaccard Score: 0.6179007207792458\n"
     ]
    }
   ],
   "source": [
    "# Best Parameters after tuning(grid search cv):  {'criterion': 'entropy', 'random_state': 0}\n",
    "\n",
    "dtree = DecisionTreeClassifier(criterion='entropy', random_state=0)\n",
    "\n",
    "dtree.fit(X_train, y_train)\n",
    "\n",
    "y_pred = dtree.predict(X_test)\n",
    "\n",
    "acc=accuracy_score(y_test, y_pred, normalize=True, sample_weight=None)\n",
    "f1 = f1_score(y_test, y_pred, labels=None, pos_label=1, average='macro', sample_weight=None, zero_division='warn')\n",
    "re =recall_score(y_test, y_pred,labels=None, pos_label=1, average='macro', sample_weight=None, zero_division='warn')\n",
    "pre= precision_score(y_test,y_pred, labels=None, pos_label=1, average='macro', sample_weight=None, zero_division='warn')\n",
    "js = jaccard_score(y_test, y_pred,  labels=None, pos_label=1, average='macro', sample_weight=None, zero_division='warn')\n",
    "print(f'Accuracy:{acc}')\n",
    "print(f'f1 Score: {f1}')\n",
    "print(f'Recall: {re}')\n",
    "print(f'Precision: {pre}')\n",
    "print(f'Jaccard Score: {js}')"
   ]
  },
  {
   "cell_type": "code",
   "execution_count": 140,
   "id": "6d9ae22a",
   "metadata": {},
   "outputs": [
    {
     "name": "stdout",
     "output_type": "stream",
     "text": [
      "[[1574  149]\n",
      " [ 240  537]]\n"
     ]
    }
   ],
   "source": [
    "from sklearn.metrics import confusion_matrix\n",
    "confusion=confusion_matrix(y_test, y_pred)\n",
    "print(confusion)"
   ]
  },
  {
   "cell_type": "markdown",
   "id": "f04ef871",
   "metadata": {},
   "source": [
    "# XGboost "
   ]
  },
  {
   "cell_type": "code",
   "execution_count": 61,
   "id": "fa5af4ba",
   "metadata": {},
   "outputs": [
    {
     "name": "stdout",
     "output_type": "stream",
     "text": [
      "Accuracy:0.8488\n",
      "f1 Score: 0.821347549909256\n",
      "Recall: 0.8175259248967897\n",
      "Precision: 0.8256303760156452\n",
      "Jaccard Score: 0.7028647655631614\n"
     ]
    }
   ],
   "source": [
    "import xgboost as xgb\n",
    "from sklearn.metrics import accuracy_score,precision_score,recall_score,f1_score\n",
    "xgb_model = xgb.XGBClassifier(objective='binary:logistic',  \n",
    "                             n_estimators=100,            \n",
    "                             learning_rate=0.1,           \n",
    "                             max_depth=5)                \n",
    "\n",
    "# Train the XGBoost model\n",
    "xgb_model.fit(X_train, y_train)\n",
    "\n",
    "# Make predictions on the test set\n",
    "y_pred = xgb_model.predict(X_test)\n",
    "\n",
    "# Evaluate model performance\n",
    "acc=accuracy_score(y_test, y_pred, normalize=True, sample_weight=None)\n",
    "f1 = f1_score(y_test, y_pred, labels=None, pos_label=1, average='macro', sample_weight=None, zero_division='warn')\n",
    "re =recall_score(y_test, y_pred,labels=None, pos_label=1, average='macro', sample_weight=None, zero_division='warn')\n",
    "pre= precision_score(y_test,y_pred, labels=None, pos_label=1, average='macro', sample_weight=None, zero_division='warn')\n",
    "js = jaccard_score(y_test, y_pred,  labels=None, pos_label=1, average='macro', sample_weight=None, zero_division='warn')\n",
    "print(f'Accuracy:{acc}')\n",
    "print(f'f1 Score: {f1}')\n",
    "print(f'Recall: {re}')\n",
    "print(f'Precision: {pre}')\n",
    "print(f'Jaccard Score: {js}')"
   ]
  },
  {
   "cell_type": "code",
   "execution_count": 69,
   "id": "05a1cc6d",
   "metadata": {
    "scrolled": true
   },
   "outputs": [
    {
     "name": "stdout",
     "output_type": "stream",
     "text": [
      "[[1551  172]\n",
      " [ 206  571]]\n"
     ]
    }
   ],
   "source": [
    "from sklearn.metrics import confusion_matrix\n",
    "confusion=confusion_matrix(y_test, y_pred)\n",
    "print(confusion)"
   ]
  },
  {
   "cell_type": "code",
   "execution_count": 62,
   "id": "05473082",
   "metadata": {},
   "outputs": [
    {
     "name": "stdout",
     "output_type": "stream",
     "text": [
      "Accuracy:0.8508\n",
      "f1 Score: 0.824804687756863\n",
      "Recall: 0.8228632828168522\n",
      "Precision: 0.8268602540834846\n",
      "Jaccard Score: 0.7074753369838782\n"
     ]
    }
   ],
   "source": [
    "#best parameters(grid search cv):\n",
    "xgb_model =xgb.XGBClassifier(learning_rate=0.1, \n",
    "                          eval_metric='error',\n",
    "                          objective='binary:logistic',\n",
    "                            n_estimators=30,\n",
    "                          )\n",
    "xgb_model.fit(X_train, y_train)\n",
    "\n",
    "# Make predictions on the test set\n",
    "y_pred = xgb_model.predict(X_test)\n",
    "\n",
    "# Evaluate model performance\n",
    "acc=accuracy_score(y_test, y_pred, normalize=True, sample_weight=None)\n",
    "f1 = f1_score(y_test, y_pred, labels=None, pos_label=1, average='macro', sample_weight=None, zero_division='warn')\n",
    "re =recall_score(y_test, y_pred,labels=None, pos_label=1, average='macro', sample_weight=None, zero_division='warn')\n",
    "pre= precision_score(y_test,y_pred, labels=None, pos_label=1, average='macro', sample_weight=None, zero_division='warn')\n",
    "js = jaccard_score(y_test, y_pred,  labels=None, pos_label=1, average='macro', sample_weight=None, zero_division='warn')\n",
    "print(f'Accuracy:{acc}')\n",
    "print(f'f1 Score: {f1}')\n",
    "print(f'Recall: {re}')\n",
    "print(f'Precision: {pre}')\n",
    "print(f'Jaccard Score: {js}')"
   ]
  },
  {
   "cell_type": "markdown",
   "id": "c65693a4",
   "metadata": {},
   "source": [
    "\n",
    "# Randon forest"
   ]
  },
  {
   "cell_type": "code",
   "execution_count": 141,
   "id": "c68cde9c",
   "metadata": {},
   "outputs": [
    {
     "data": {
      "text/html": [
       "<style>#sk-container-id-5 {color: black;}#sk-container-id-5 pre{padding: 0;}#sk-container-id-5 div.sk-toggleable {background-color: white;}#sk-container-id-5 label.sk-toggleable__label {cursor: pointer;display: block;width: 100%;margin-bottom: 0;padding: 0.3em;box-sizing: border-box;text-align: center;}#sk-container-id-5 label.sk-toggleable__label-arrow:before {content: \"▸\";float: left;margin-right: 0.25em;color: #696969;}#sk-container-id-5 label.sk-toggleable__label-arrow:hover:before {color: black;}#sk-container-id-5 div.sk-estimator:hover label.sk-toggleable__label-arrow:before {color: black;}#sk-container-id-5 div.sk-toggleable__content {max-height: 0;max-width: 0;overflow: hidden;text-align: left;background-color: #f0f8ff;}#sk-container-id-5 div.sk-toggleable__content pre {margin: 0.2em;color: black;border-radius: 0.25em;background-color: #f0f8ff;}#sk-container-id-5 input.sk-toggleable__control:checked~div.sk-toggleable__content {max-height: 200px;max-width: 100%;overflow: auto;}#sk-container-id-5 input.sk-toggleable__control:checked~label.sk-toggleable__label-arrow:before {content: \"▾\";}#sk-container-id-5 div.sk-estimator input.sk-toggleable__control:checked~label.sk-toggleable__label {background-color: #d4ebff;}#sk-container-id-5 div.sk-label input.sk-toggleable__control:checked~label.sk-toggleable__label {background-color: #d4ebff;}#sk-container-id-5 input.sk-hidden--visually {border: 0;clip: rect(1px 1px 1px 1px);clip: rect(1px, 1px, 1px, 1px);height: 1px;margin: -1px;overflow: hidden;padding: 0;position: absolute;width: 1px;}#sk-container-id-5 div.sk-estimator {font-family: monospace;background-color: #f0f8ff;border: 1px dotted black;border-radius: 0.25em;box-sizing: border-box;margin-bottom: 0.5em;}#sk-container-id-5 div.sk-estimator:hover {background-color: #d4ebff;}#sk-container-id-5 div.sk-parallel-item::after {content: \"\";width: 100%;border-bottom: 1px solid gray;flex-grow: 1;}#sk-container-id-5 div.sk-label:hover label.sk-toggleable__label {background-color: #d4ebff;}#sk-container-id-5 div.sk-serial::before {content: \"\";position: absolute;border-left: 1px solid gray;box-sizing: border-box;top: 0;bottom: 0;left: 50%;z-index: 0;}#sk-container-id-5 div.sk-serial {display: flex;flex-direction: column;align-items: center;background-color: white;padding-right: 0.2em;padding-left: 0.2em;position: relative;}#sk-container-id-5 div.sk-item {position: relative;z-index: 1;}#sk-container-id-5 div.sk-parallel {display: flex;align-items: stretch;justify-content: center;background-color: white;position: relative;}#sk-container-id-5 div.sk-item::before, #sk-container-id-5 div.sk-parallel-item::before {content: \"\";position: absolute;border-left: 1px solid gray;box-sizing: border-box;top: 0;bottom: 0;left: 50%;z-index: -1;}#sk-container-id-5 div.sk-parallel-item {display: flex;flex-direction: column;z-index: 1;position: relative;background-color: white;}#sk-container-id-5 div.sk-parallel-item:first-child::after {align-self: flex-end;width: 50%;}#sk-container-id-5 div.sk-parallel-item:last-child::after {align-self: flex-start;width: 50%;}#sk-container-id-5 div.sk-parallel-item:only-child::after {width: 0;}#sk-container-id-5 div.sk-dashed-wrapped {border: 1px dashed gray;margin: 0 0.4em 0.5em 0.4em;box-sizing: border-box;padding-bottom: 0.4em;background-color: white;}#sk-container-id-5 div.sk-label label {font-family: monospace;font-weight: bold;display: inline-block;line-height: 1.2em;}#sk-container-id-5 div.sk-label-container {text-align: center;}#sk-container-id-5 div.sk-container {/* jupyter's `normalize.less` sets `[hidden] { display: none; }` but bootstrap.min.css set `[hidden] { display: none !important; }` so we also need the `!important` here to be able to override the default hidden behavior on the sphinx rendered scikit-learn.org. See: https://github.com/scikit-learn/scikit-learn/issues/21755 */display: inline-block !important;position: relative;}#sk-container-id-5 div.sk-text-repr-fallback {display: none;}</style><div id=\"sk-container-id-5\" class=\"sk-top-container\"><div class=\"sk-text-repr-fallback\"><pre>RandomForestClassifier()</pre><b>In a Jupyter environment, please rerun this cell to show the HTML representation or trust the notebook. <br />On GitHub, the HTML representation is unable to render, please try loading this page with nbviewer.org.</b></div><div class=\"sk-container\" hidden><div class=\"sk-item\"><div class=\"sk-estimator sk-toggleable\"><input class=\"sk-toggleable__control sk-hidden--visually\" id=\"sk-estimator-id-5\" type=\"checkbox\" checked><label for=\"sk-estimator-id-5\" class=\"sk-toggleable__label sk-toggleable__label-arrow\">RandomForestClassifier</label><div class=\"sk-toggleable__content\"><pre>RandomForestClassifier()</pre></div></div></div></div></div>"
      ],
      "text/plain": [
       "RandomForestClassifier()"
      ]
     },
     "execution_count": 141,
     "metadata": {},
     "output_type": "execute_result"
    }
   ],
   "source": [
    "from sklearn.ensemble import RandomForestClassifier\n",
    "RFC = RandomForestClassifier() \n",
    "RFC.fit(X_train, y_train) "
   ]
  },
  {
   "cell_type": "code",
   "execution_count": 142,
   "id": "c99263ca",
   "metadata": {},
   "outputs": [
    {
     "name": "stdout",
     "output_type": "stream",
     "text": [
      "Accuracy:0.8384\n",
      "f1 Score: 0.8065802546399673\n",
      "Recall: 0.7993816716974\n",
      "Precision: 0.8156382917565417\n",
      "Jaccard Score: 0.6831295526548207\n"
     ]
    }
   ],
   "source": [
    "y_pred = RFC.predict(X_test)\n",
    "\n",
    "acc=accuracy_score(y_test, y_pred, normalize=True, sample_weight=None)\n",
    "f1 = f1_score(y_test, y_pred, labels=None, pos_label=1, average='macro', sample_weight=None, zero_division='warn')\n",
    "re =recall_score(y_test, y_pred,labels=None, pos_label=1, average='macro', sample_weight=None, zero_division='warn')\n",
    "pre= precision_score(y_test,y_pred, labels=None, pos_label=1, average='macro', sample_weight=None, zero_division='warn')\n",
    "js = jaccard_score(y_test, y_pred,  labels=None, pos_label=1, average='macro', sample_weight=None, zero_division='warn')\n",
    "print(f'Accuracy:{acc}')\n",
    "print(f'f1 Score: {f1}')\n",
    "print(f'Recall: {re}')\n",
    "print(f'Precision: {pre}')\n",
    "print(f'Jaccard Score: {js}')"
   ]
  },
  {
   "cell_type": "code",
   "execution_count": 188,
   "id": "87bd7c42",
   "metadata": {},
   "outputs": [
    {
     "name": "stdout",
     "output_type": "stream",
     "text": [
      "Accuracy:0.846\n",
      "f1 Score: 0.8171525532817459\n",
      "Recall: 0.8119614930410055\n",
      "Precision: 0.8232296261899235\n",
      "Jaccard Score: 0.6972336495676266\n"
     ]
    }
   ],
   "source": [
    "# Best Parameters after tuning(grid search cv) :  {'criterion': 'entropy', 'n_estimators': 150, 'random_state': 0}\n",
    "RFC = RandomForestClassifier(criterion='log_loss',n_estimators=100,random_state=0,max_depth=40,max_leaf_nodes=400) \n",
    "RFC.fit(X_train, y_train) \n",
    "\n",
    "y_pred = RFC.predict(X_test)\n",
    "\n",
    "acc=accuracy_score(y_test, y_pred, normalize=True, sample_weight=None)\n",
    "f1 = f1_score(y_test, y_pred, labels=None, pos_label=1, average='macro', sample_weight=None, zero_division='warn')\n",
    "re =recall_score(y_test, y_pred,labels=None, pos_label=1, average='macro', sample_weight=None, zero_division='warn')\n",
    "pre= precision_score(y_test,y_pred, labels=None, pos_label=1, average='macro', sample_weight=None, zero_division='warn')\n",
    "js = jaccard_score(y_test, y_pred,  labels=None, pos_label=1, average='macro', sample_weight=None, zero_division='warn')\n",
    "print(f'Accuracy:{acc}')\n",
    "print(f'f1 Score: {f1}')\n",
    "print(f'Recall: {re}')\n",
    "print(f'Precision: {pre}')\n",
    "print(f'Jaccard Score: {js}')"
   ]
  },
  {
   "cell_type": "code",
   "execution_count": 189,
   "id": "88bdb9cd",
   "metadata": {
    "scrolled": true
   },
   "outputs": [
    {
     "name": "stdout",
     "output_type": "stream",
     "text": [
      "[[1554  169]\n",
      " [ 216  561]]\n"
     ]
    }
   ],
   "source": [
    "from sklearn.metrics import confusion_matrix\n",
    "confusion=confusion_matrix(y_test, y_pred)\n",
    "print(confusion)"
   ]
  },
  {
   "cell_type": "markdown",
   "id": "691fff12",
   "metadata": {},
   "source": [
    "# CONCLUSION"
   ]
  },
  {
   "cell_type": "markdown",
   "id": "00211db7",
   "metadata": {},
   "source": [
    "### The top 2 models are Xgboost and random forest.\n",
    "1.Xgboost:\n",
    "* Accuracy:0.8508\n",
    "* f1 Score: 0.824804687756863\n",
    "* Recall: 0.8228632828168522\n",
    "* Precision: 0.8268602540834846\n",
    "* Jaccard Score: 0.7074753369838782\n",
    "\n",
    "2.Random forest:\n",
    "* Accuracy:0.846\n",
    "* f1 Score: 0.8171525532817459\n",
    "* Recall: 0.8119614930410055\n",
    "* Precision: 0.8232296261899235\n",
    "* Jaccard Score: 0.6972336495676266"
   ]
  }
 ],
 "metadata": {
  "kernelspec": {
   "display_name": "Python 3 (ipykernel)",
   "language": "python",
   "name": "python3"
  },
  "language_info": {
   "codemirror_mode": {
    "name": "ipython",
    "version": 3
   },
   "file_extension": ".py",
   "mimetype": "text/x-python",
   "name": "python",
   "nbconvert_exporter": "python",
   "pygments_lexer": "ipython3",
   "version": "3.11.5"
  }
 },
 "nbformat": 4,
 "nbformat_minor": 5
}
